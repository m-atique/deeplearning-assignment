{
  "nbformat": 4,
  "nbformat_minor": 0,
  "metadata": {
    "colab": {
      "name": "flowers.ipynb",
      "provenance": [],
      "collapsed_sections": [],
      "mount_file_id": "1-nuJTh0O8_ssVgwggMFGkpSJMUF4gg2W",
      "authorship_tag": "ABX9TyMm1nVYkZLpDBi2BrKkt7QF",
      "include_colab_link": true
    },
    "kernelspec": {
      "name": "python3",
      "display_name": "Python 3"
    },
    "language_info": {
      "name": "python"
    }
  },
  "cells": [
    {
      "cell_type": "markdown",
      "metadata": {
        "id": "view-in-github",
        "colab_type": "text"
      },
      "source": [
        "<a href=\"https://colab.research.google.com/github/m-atique/deeplearning-assignment/blob/main/flowers.ipynb\" target=\"_parent\"><img src=\"https://colab.research.google.com/assets/colab-badge.svg\" alt=\"Open In Colab\"/></a>"
      ]
    },
    {
      "cell_type": "code",
      "metadata": {
        "id": "gDTXhYpbSLBi"
      },
      "source": [
        "import numpy as np\n",
        "import pandas as pd\n",
        "import glob\n",
        "from PIL import Image\n",
        "from matplotlib import image\n",
        "from matplotlib import pyplot as plt\n",
        "import tensorflow as tf\n",
        "from tensorflow.keras import models,layers,utils"
      ],
      "execution_count": 42,
      "outputs": []
    },
    {
      "cell_type": "code",
      "metadata": {
        "colab": {
          "base_uri": "https://localhost:8080/"
        },
        "id": "AYNIaLMSWgMr",
        "outputId": "50825ac4-3443-406f-ddff-b6f54c5afbd4"
      },
      "source": [
        "images =[]\n",
        "labels=[]\n",
        "types = []\n",
        "\n",
        "my_path = \"/content/drive/MyDrive/ml data/flowers/\"\n",
        "catg = glob.glob(my_path+'/*',recursive = True)\n",
        "for dir in catg:\n",
        "  types.append(dir.split(sep='/')[-1])\n",
        "print(types)\n",
        "files = glob.glob(my_path + '/**/*.jpg', recursive=True)\n",
        "for i in files:\n",
        "  labels.append(i.split(sep='/')[-2])\n",
        "  img=Image.open(i)\n",
        "  img =img.convert('L')   # Convert image to gray scale\n",
        "  img =img.resize((100,100))\n",
        "  img_ar = np.array(img)\n",
        "  images.append(img_ar)\n",
        "  "
      ],
      "execution_count": 57,
      "outputs": [
        {
          "output_type": "stream",
          "text": [
            "['daisy', 'dandelion', 'rose', 'sunflower', 'tulip']\n"
          ],
          "name": "stdout"
        }
      ]
    },
    {
      "cell_type": "code",
      "metadata": {
        "colab": {
          "base_uri": "https://localhost:8080/",
          "height": 117
        },
        "id": "OA97ZNVbkoGu",
        "outputId": "c8b66a76-2cc5-4b8b-a30c-9222a23b7e59"
      },
      "source": [
        "a= images[20]\n",
        "b = Image.fromarray(a)\n",
        "b  # gray scale image of 100 x 100"
      ],
      "execution_count": 61,
      "outputs": [
        {
          "output_type": "execute_result",
          "data": {
            "image/png": "[encoded data removed]",
            "text/plain": [
              "<PIL.Image.Image image mode=L size=100x100 at 0x7FD72A933110>"
            ]
          },
          "metadata": {
            "tags": []
          },
          "execution_count": 61
        }
      ]
    },
    {
      "cell_type": "code",
      "metadata": {
        "colab": {
          "base_uri": "https://localhost:8080/"
        },
        "id": "WzAZsAnw5Ntf",
        "outputId": "cb4757f4-6250-49f6-82d8-4caedecf90a4"
      },
      "source": [
        "img_data = np.asarray(images)\n"
      ],
      "execution_count": 65,
      "outputs": [
        {
          "output_type": "execute_result",
          "data": {
            "text/plain": [
              "(4323, 100, 100)"
            ]
          },
          "metadata": {
            "tags": []
          },
          "execution_count": 65
        }
      ]
    },
    {
      "cell_type": "code",
      "metadata": {
        "id": "ylEs1DK955HW"
      },
      "source": [
        "labels= np.asarray(labels)"
      ],
      "execution_count": 67,
      "outputs": []
    },
    {
      "cell_type": "code",
      "metadata": {
        "colab": {
          "base_uri": "https://localhost:8080/"
        },
        "id": "nxdk3e-J6IUV",
        "outputId": "6e40390e-3c8b-4a68-dcc2-2a6e9b97ed1c"
      },
      "source": [
        "labels.shape"
      ],
      "execution_count": 68,
      "outputs": [
        {
          "output_type": "execute_result",
          "data": {
            "text/plain": [
              "(4323,)"
            ]
          },
          "metadata": {
            "tags": []
          },
          "execution_count": 68
        }
      ]
    },
    {
      "cell_type": "code",
      "metadata": {
        "id": "jScpMHcu6MVt"
      },
      "source": [
        "train_data = img_data[:2594]\n",
        "train_labels = labels[:2594]\n",
        "#--------------------------------------\n",
        "test_data =img_data[2594:]\n",
        "test_labels= labels[2594:]"
      ],
      "execution_count": 69,
      "outputs": []
    },
    {
      "cell_type": "code",
      "metadata": {
        "id": "wercrBy583mn"
      },
      "source": [
        "from sklearn.preprocessing import LabelEncoder\n",
        "\n",
        "def prepare_targets(y_train):\n",
        "    le = LabelEncoder()\n",
        "    le.fit(y_train)\n",
        "    y_train = le.transform(y_train)\n",
        "   \n",
        "    return y_train"
      ],
      "execution_count": 85,
      "outputs": []
    },
    {
      "cell_type": "code",
      "metadata": {
        "id": "tTrJGyUUC-7A"
      },
      "source": [
        "train_labels2 = prepare_targets(train_labels)"
      ],
      "execution_count": 86,
      "outputs": []
    },
    {
      "cell_type": "code",
      "metadata": {
        "colab": {
          "base_uri": "https://localhost:8080/"
        },
        "id": "JPd9V6xaESLp",
        "outputId": "5a14135c-b5a0-45f1-a850-e5786a5ab118"
      },
      "source": [
        "train_labels2"
      ],
      "execution_count": 91,
      "outputs": [
        {
          "output_type": "execute_result",
          "data": {
            "text/plain": [
              "array([0, 0, 0, ..., 2, 2, 2])"
            ]
          },
          "metadata": {
            "tags": []
          },
          "execution_count": 91
        }
      ]
    },
    {
      "cell_type": "code",
      "metadata": {
        "id": "491GSLmbEEcF"
      },
      "source": [
        "test_labels2 = prepare_targets(test_labels)"
      ],
      "execution_count": 87,
      "outputs": []
    },
    {
      "cell_type": "code",
      "metadata": {
        "id": "fbZHftTZFfVP"
      },
      "source": [
        "train_data2 = train_data/255.0\n",
        "test_data2 = test_data/255.0"
      ],
      "execution_count": 93,
      "outputs": []
    },
    {
      "cell_type": "code",
      "metadata": {
        "id": "krATumUwGDon"
      },
      "source": [
        "modal = tf.keras.models.Sequential([tf.keras.layers.Flatten(),\n",
        "                                    tf.keras.layers.Dense(512,activation=tf.nn.relu),\n",
        "                                    tf.keras.layers.Dense(64,activation=tf.nn.relu),\n",
        "                                    tf.keras.layers.Dense(10,activation= tf.nn.softmax)])"
      ],
      "execution_count": 107,
      "outputs": []
    },
    {
      "cell_type": "code",
      "metadata": {
        "id": "MVnm53HfGZ1E"
      },
      "source": [
        "modal.compile(optimizer=tf.keras.optimizers.Adam(),\n",
        "              loss='sparse_categorical_crossentropy',\n",
        "              metrics=['accuracy'])"
      ],
      "execution_count": 108,
      "outputs": []
    },
    {
      "cell_type": "code",
      "metadata": {
        "colab": {
          "base_uri": "https://localhost:8080/"
        },
        "id": "B4Eb_8N4GOAI",
        "outputId": "891a6c00-db11-4600-f4c4-5f79c562188a"
      },
      "source": [
        "modal.fit(train_data2,train_labels2,epochs=140,batch_size=128)"
      ],
      "execution_count": 109,
      "outputs": [
        {
          "output_type": "stream",
          "text": [
            "Epoch 1/140\n",
            "21/21 [==============================] - 2s 68ms/step - loss: 4.0412 - accuracy: 0.2939\n",
            "Epoch 2/140\n",
            "21/21 [==============================] - 1s 67ms/step - loss: 1.4455 - accuracy: 0.3910\n",
            "Epoch 3/140\n",
            "21/21 [==============================] - 1s 67ms/step - loss: 1.1750 - accuracy: 0.4399\n",
            "Epoch 4/140\n",
            "21/21 [==============================] - 1s 67ms/step - loss: 1.0486 - accuracy: 0.4504\n",
            "Epoch 5/140\n",
            "21/21 [==============================] - 1s 69ms/step - loss: 1.0633 - accuracy: 0.4520\n",
            "Epoch 6/140\n",
            "21/21 [==============================] - 1s 67ms/step - loss: 1.0872 - accuracy: 0.4475\n",
            "Epoch 7/140\n",
            "21/21 [==============================] - 1s 67ms/step - loss: 1.1094 - accuracy: 0.4338\n",
            "Epoch 8/140\n",
            "21/21 [==============================] - 1s 68ms/step - loss: 1.0150 - accuracy: 0.4768\n",
            "Epoch 9/140\n",
            "21/21 [==============================] - 1s 66ms/step - loss: 1.0260 - accuracy: 0.4930\n",
            "Epoch 10/140\n",
            "21/21 [==============================] - 1s 66ms/step - loss: 1.1498 - accuracy: 0.4312\n",
            "Epoch 11/140\n",
            "21/21 [==============================] - 1s 66ms/step - loss: 1.0808 - accuracy: 0.4720\n",
            "Epoch 12/140\n",
            "21/21 [==============================] - 1s 66ms/step - loss: 1.1187 - accuracy: 0.4671\n",
            "Epoch 13/140\n",
            "21/21 [==============================] - 1s 66ms/step - loss: 1.0640 - accuracy: 0.4719\n",
            "Epoch 14/140\n",
            "21/21 [==============================] - 1s 66ms/step - loss: 1.0359 - accuracy: 0.4919\n",
            "Epoch 15/140\n",
            "21/21 [==============================] - 1s 65ms/step - loss: 1.0311 - accuracy: 0.5047\n",
            "Epoch 16/140\n",
            "21/21 [==============================] - 1s 66ms/step - loss: 0.9130 - accuracy: 0.5907\n",
            "Epoch 17/140\n",
            "21/21 [==============================] - 1s 66ms/step - loss: 1.0902 - accuracy: 0.4877\n",
            "Epoch 18/140\n",
            "21/21 [==============================] - 1s 66ms/step - loss: 0.9427 - accuracy: 0.5406\n",
            "Epoch 19/140\n",
            "21/21 [==============================] - 1s 67ms/step - loss: 0.9122 - accuracy: 0.5692\n",
            "Epoch 20/140\n",
            "21/21 [==============================] - 1s 66ms/step - loss: 0.8882 - accuracy: 0.5919\n",
            "Epoch 21/140\n",
            "21/21 [==============================] - 1s 68ms/step - loss: 0.9210 - accuracy: 0.5665\n",
            "Epoch 22/140\n",
            "21/21 [==============================] - 1s 67ms/step - loss: 0.9445 - accuracy: 0.5663\n",
            "Epoch 23/140\n",
            "21/21 [==============================] - 1s 67ms/step - loss: 0.9808 - accuracy: 0.5438\n",
            "Epoch 24/140\n",
            "21/21 [==============================] - 1s 67ms/step - loss: 0.8479 - accuracy: 0.6066\n",
            "Epoch 25/140\n",
            "21/21 [==============================] - 1s 67ms/step - loss: 0.8356 - accuracy: 0.6193\n",
            "Epoch 26/140\n",
            "21/21 [==============================] - 1s 67ms/step - loss: 0.8632 - accuracy: 0.6170\n",
            "Epoch 27/140\n",
            "21/21 [==============================] - 1s 67ms/step - loss: 0.8196 - accuracy: 0.6340\n",
            "Epoch 28/140\n",
            "21/21 [==============================] - 1s 66ms/step - loss: 0.8320 - accuracy: 0.6338\n",
            "Epoch 29/140\n",
            "21/21 [==============================] - 1s 67ms/step - loss: 0.8678 - accuracy: 0.6070\n",
            "Epoch 30/140\n",
            "21/21 [==============================] - 1s 66ms/step - loss: 0.8348 - accuracy: 0.6249\n",
            "Epoch 31/140\n",
            "21/21 [==============================] - 1s 66ms/step - loss: 0.8198 - accuracy: 0.6389\n",
            "Epoch 32/140\n",
            "21/21 [==============================] - 1s 66ms/step - loss: 0.9564 - accuracy: 0.5784\n",
            "Epoch 33/140\n",
            "21/21 [==============================] - 1s 66ms/step - loss: 0.9284 - accuracy: 0.5899\n",
            "Epoch 34/140\n",
            "21/21 [==============================] - 1s 67ms/step - loss: 0.7574 - accuracy: 0.6834\n",
            "Epoch 35/140\n",
            "21/21 [==============================] - 1s 68ms/step - loss: 0.7528 - accuracy: 0.6689\n",
            "Epoch 36/140\n",
            "21/21 [==============================] - 1s 67ms/step - loss: 0.8590 - accuracy: 0.5992\n",
            "Epoch 37/140\n",
            "21/21 [==============================] - 1s 68ms/step - loss: 0.7731 - accuracy: 0.6590\n",
            "Epoch 38/140\n",
            "21/21 [==============================] - 1s 68ms/step - loss: 0.8401 - accuracy: 0.6127\n",
            "Epoch 39/140\n",
            "21/21 [==============================] - 1s 67ms/step - loss: 0.7715 - accuracy: 0.6621\n",
            "Epoch 40/140\n",
            "21/21 [==============================] - 1s 68ms/step - loss: 0.7255 - accuracy: 0.7095\n",
            "Epoch 41/140\n",
            "21/21 [==============================] - 1s 67ms/step - loss: 0.6657 - accuracy: 0.7314\n",
            "Epoch 42/140\n",
            "21/21 [==============================] - 1s 68ms/step - loss: 0.6751 - accuracy: 0.7245\n",
            "Epoch 43/140\n",
            "21/21 [==============================] - 1s 66ms/step - loss: 0.6740 - accuracy: 0.7273\n",
            "Epoch 44/140\n",
            "21/21 [==============================] - 1s 66ms/step - loss: 0.6597 - accuracy: 0.7451\n",
            "Epoch 45/140\n",
            "21/21 [==============================] - 1s 67ms/step - loss: 0.6771 - accuracy: 0.7287\n",
            "Epoch 46/140\n",
            "21/21 [==============================] - 1s 66ms/step - loss: 0.8149 - accuracy: 0.6371\n",
            "Epoch 47/140\n",
            "21/21 [==============================] - 1s 67ms/step - loss: 0.6452 - accuracy: 0.7346\n",
            "Epoch 48/140\n",
            "21/21 [==============================] - 1s 67ms/step - loss: 0.6280 - accuracy: 0.7500\n",
            "Epoch 49/140\n",
            "21/21 [==============================] - 1s 68ms/step - loss: 0.7121 - accuracy: 0.6861\n",
            "Epoch 50/140\n",
            "21/21 [==============================] - 1s 67ms/step - loss: 0.6125 - accuracy: 0.7482\n",
            "Epoch 51/140\n",
            "21/21 [==============================] - 1s 67ms/step - loss: 0.6494 - accuracy: 0.7382\n",
            "Epoch 52/140\n",
            "21/21 [==============================] - 1s 66ms/step - loss: 0.7823 - accuracy: 0.6656\n",
            "Epoch 53/140\n",
            "21/21 [==============================] - 1s 68ms/step - loss: 0.6122 - accuracy: 0.7540\n",
            "Epoch 54/140\n",
            "21/21 [==============================] - 1s 67ms/step - loss: 0.5836 - accuracy: 0.7843\n",
            "Epoch 55/140\n",
            "21/21 [==============================] - 1s 66ms/step - loss: 0.8775 - accuracy: 0.6606\n",
            "Epoch 56/140\n",
            "21/21 [==============================] - 1s 66ms/step - loss: 0.7027 - accuracy: 0.6780\n",
            "Epoch 57/140\n",
            "21/21 [==============================] - 1s 67ms/step - loss: 0.5893 - accuracy: 0.7539\n",
            "Epoch 58/140\n",
            "21/21 [==============================] - 1s 68ms/step - loss: 0.5723 - accuracy: 0.7730\n",
            "Epoch 59/140\n",
            "21/21 [==============================] - 1s 67ms/step - loss: 0.5641 - accuracy: 0.7818\n",
            "Epoch 60/140\n",
            "21/21 [==============================] - 1s 69ms/step - loss: 0.4975 - accuracy: 0.8253\n",
            "Epoch 61/140\n",
            "21/21 [==============================] - 1s 69ms/step - loss: 0.7254 - accuracy: 0.6880\n",
            "Epoch 62/140\n",
            "21/21 [==============================] - 1s 71ms/step - loss: 0.6595 - accuracy: 0.7088\n",
            "Epoch 63/140\n",
            "21/21 [==============================] - 1s 68ms/step - loss: 0.5857 - accuracy: 0.7664\n",
            "Epoch 64/140\n",
            "21/21 [==============================] - 1s 69ms/step - loss: 0.5239 - accuracy: 0.7855\n",
            "Epoch 65/140\n",
            "21/21 [==============================] - 1s 67ms/step - loss: 0.5277 - accuracy: 0.8044\n",
            "Epoch 66/140\n",
            "21/21 [==============================] - 1s 67ms/step - loss: 0.5619 - accuracy: 0.7667\n",
            "Epoch 67/140\n",
            "21/21 [==============================] - 1s 68ms/step - loss: 0.5702 - accuracy: 0.7604\n",
            "Epoch 68/140\n",
            "21/21 [==============================] - 1s 68ms/step - loss: 0.4803 - accuracy: 0.8260\n",
            "Epoch 69/140\n",
            "21/21 [==============================] - 1s 69ms/step - loss: 0.4352 - accuracy: 0.8529\n",
            "Epoch 70/140\n",
            "21/21 [==============================] - 1s 68ms/step - loss: 0.4459 - accuracy: 0.8398\n",
            "Epoch 71/140\n",
            "21/21 [==============================] - 1s 68ms/step - loss: 0.4783 - accuracy: 0.8227\n",
            "Epoch 72/140\n",
            "21/21 [==============================] - 1s 68ms/step - loss: 0.5151 - accuracy: 0.8009\n",
            "Epoch 73/140\n",
            "21/21 [==============================] - 1s 68ms/step - loss: 0.4937 - accuracy: 0.7952\n",
            "Epoch 74/140\n",
            "21/21 [==============================] - 1s 67ms/step - loss: 0.4651 - accuracy: 0.8314\n",
            "Epoch 75/140\n",
            "21/21 [==============================] - 1s 68ms/step - loss: 0.4792 - accuracy: 0.8201\n",
            "Epoch 76/140\n",
            "21/21 [==============================] - 1s 67ms/step - loss: 0.4570 - accuracy: 0.8183\n",
            "Epoch 77/140\n",
            "21/21 [==============================] - 1s 66ms/step - loss: 0.3685 - accuracy: 0.8893\n",
            "Epoch 78/140\n",
            "21/21 [==============================] - 1s 68ms/step - loss: 0.4817 - accuracy: 0.8202\n",
            "Epoch 79/140\n",
            "21/21 [==============================] - 1s 67ms/step - loss: 0.3927 - accuracy: 0.8580\n",
            "Epoch 80/140\n",
            "21/21 [==============================] - 1s 68ms/step - loss: 0.3927 - accuracy: 0.8579\n",
            "Epoch 81/140\n",
            "21/21 [==============================] - 1s 68ms/step - loss: 0.3749 - accuracy: 0.8824\n",
            "Epoch 82/140\n",
            "21/21 [==============================] - 1s 69ms/step - loss: 0.3479 - accuracy: 0.8879\n",
            "Epoch 83/140\n",
            "21/21 [==============================] - 1s 68ms/step - loss: 0.3494 - accuracy: 0.8764\n",
            "Epoch 84/140\n",
            "21/21 [==============================] - 1s 68ms/step - loss: 0.4787 - accuracy: 0.8137\n",
            "Epoch 85/140\n",
            "21/21 [==============================] - 1s 67ms/step - loss: 0.5681 - accuracy: 0.7801\n",
            "Epoch 86/140\n",
            "21/21 [==============================] - 1s 67ms/step - loss: 0.4912 - accuracy: 0.7921\n",
            "Epoch 87/140\n",
            "21/21 [==============================] - 1s 67ms/step - loss: 0.3898 - accuracy: 0.8591\n",
            "Epoch 88/140\n",
            "21/21 [==============================] - 1s 68ms/step - loss: 0.3965 - accuracy: 0.8441\n",
            "Epoch 89/140\n",
            "21/21 [==============================] - 1s 67ms/step - loss: 0.3952 - accuracy: 0.8509\n",
            "Epoch 90/140\n",
            "21/21 [==============================] - 1s 69ms/step - loss: 0.3743 - accuracy: 0.8604\n",
            "Epoch 91/140\n",
            "21/21 [==============================] - 1s 70ms/step - loss: 0.4883 - accuracy: 0.8012\n",
            "Epoch 92/140\n",
            "21/21 [==============================] - 1s 67ms/step - loss: 0.3247 - accuracy: 0.8861\n",
            "Epoch 93/140\n",
            "21/21 [==============================] - 1s 67ms/step - loss: 0.5045 - accuracy: 0.8074\n",
            "Epoch 94/140\n",
            "21/21 [==============================] - 1s 67ms/step - loss: 0.4526 - accuracy: 0.8126\n",
            "Epoch 95/140\n",
            "21/21 [==============================] - 1s 68ms/step - loss: 0.3763 - accuracy: 0.8508\n",
            "Epoch 96/140\n",
            "21/21 [==============================] - 1s 68ms/step - loss: 0.2861 - accuracy: 0.9190\n",
            "Epoch 97/140\n",
            "21/21 [==============================] - 1s 67ms/step - loss: 0.3889 - accuracy: 0.8468\n",
            "Epoch 98/140\n",
            "21/21 [==============================] - 1s 67ms/step - loss: 0.2723 - accuracy: 0.9154\n",
            "Epoch 99/140\n",
            "21/21 [==============================] - 1s 67ms/step - loss: 0.2622 - accuracy: 0.9195\n",
            "Epoch 100/140\n",
            "21/21 [==============================] - 1s 67ms/step - loss: 0.2863 - accuracy: 0.9047\n",
            "Epoch 101/140\n",
            "21/21 [==============================] - 1s 68ms/step - loss: 0.3891 - accuracy: 0.8510\n",
            "Epoch 102/140\n",
            "21/21 [==============================] - 1s 68ms/step - loss: 0.3918 - accuracy: 0.8340\n",
            "Epoch 103/140\n",
            "21/21 [==============================] - 1s 67ms/step - loss: 0.2473 - accuracy: 0.9341\n",
            "Epoch 104/140\n",
            "21/21 [==============================] - 1s 68ms/step - loss: 0.3281 - accuracy: 0.8694\n",
            "Epoch 105/140\n",
            "21/21 [==============================] - 1s 68ms/step - loss: 0.3477 - accuracy: 0.8609\n",
            "Epoch 106/140\n",
            "21/21 [==============================] - 1s 68ms/step - loss: 0.3601 - accuracy: 0.8583\n",
            "Epoch 107/140\n",
            "21/21 [==============================] - 1s 67ms/step - loss: 0.2510 - accuracy: 0.9198\n",
            "Epoch 108/140\n",
            "21/21 [==============================] - 1s 69ms/step - loss: 0.2879 - accuracy: 0.8973\n",
            "Epoch 109/140\n",
            "21/21 [==============================] - 1s 69ms/step - loss: 0.3695 - accuracy: 0.8480\n",
            "Epoch 110/140\n",
            "21/21 [==============================] - 1s 68ms/step - loss: 0.2092 - accuracy: 0.9456\n",
            "Epoch 111/140\n",
            "21/21 [==============================] - 1s 68ms/step - loss: 0.3346 - accuracy: 0.8669\n",
            "Epoch 112/140\n",
            "21/21 [==============================] - 1s 69ms/step - loss: 0.3157 - accuracy: 0.8847\n",
            "Epoch 113/140\n",
            "21/21 [==============================] - 1s 68ms/step - loss: 0.5551 - accuracy: 0.8031\n",
            "Epoch 114/140\n",
            "21/21 [==============================] - 1s 67ms/step - loss: 0.4144 - accuracy: 0.8260\n",
            "Epoch 115/140\n",
            "21/21 [==============================] - 1s 67ms/step - loss: 0.3749 - accuracy: 0.8452\n",
            "Epoch 116/140\n",
            "21/21 [==============================] - 1s 67ms/step - loss: 0.2419 - accuracy: 0.9095\n",
            "Epoch 117/140\n",
            "21/21 [==============================] - 1s 69ms/step - loss: 0.2614 - accuracy: 0.9014\n",
            "Epoch 118/140\n",
            "21/21 [==============================] - 1s 68ms/step - loss: 0.2920 - accuracy: 0.8845\n",
            "Epoch 119/140\n",
            "21/21 [==============================] - 1s 67ms/step - loss: 0.1961 - accuracy: 0.9355\n",
            "Epoch 120/140\n",
            "21/21 [==============================] - 1s 68ms/step - loss: 0.1353 - accuracy: 0.9673\n",
            "Epoch 121/140\n",
            "21/21 [==============================] - 1s 68ms/step - loss: 0.2021 - accuracy: 0.9348\n",
            "Epoch 122/140\n",
            "21/21 [==============================] - 2s 86ms/step - loss: 0.2605 - accuracy: 0.8953\n",
            "Epoch 123/140\n",
            "21/21 [==============================] - 1s 69ms/step - loss: 0.1912 - accuracy: 0.9372\n",
            "Epoch 124/140\n",
            "21/21 [==============================] - 1s 67ms/step - loss: 0.1922 - accuracy: 0.9298\n",
            "Epoch 125/140\n",
            "21/21 [==============================] - 1s 67ms/step - loss: 0.2502 - accuracy: 0.9055\n",
            "Epoch 126/140\n",
            "21/21 [==============================] - 1s 68ms/step - loss: 0.1685 - accuracy: 0.9520\n",
            "Epoch 127/140\n",
            "21/21 [==============================] - 1s 68ms/step - loss: 0.2436 - accuracy: 0.9076\n",
            "Epoch 128/140\n",
            "21/21 [==============================] - 1s 67ms/step - loss: 0.5307 - accuracy: 0.8232\n",
            "Epoch 129/140\n",
            "21/21 [==============================] - 1s 68ms/step - loss: 0.5527 - accuracy: 0.7980\n",
            "Epoch 130/140\n",
            "21/21 [==============================] - 1s 67ms/step - loss: 0.2167 - accuracy: 0.9202\n",
            "Epoch 131/140\n",
            "21/21 [==============================] - 1s 70ms/step - loss: 0.1917 - accuracy: 0.9411\n",
            "Epoch 132/140\n",
            "21/21 [==============================] - 1s 68ms/step - loss: 0.1475 - accuracy: 0.9590\n",
            "Epoch 133/140\n",
            "21/21 [==============================] - 1s 67ms/step - loss: 0.1430 - accuracy: 0.9568\n",
            "Epoch 134/140\n",
            "21/21 [==============================] - 1s 68ms/step - loss: 0.1682 - accuracy: 0.9387\n",
            "Epoch 135/140\n",
            "21/21 [==============================] - 1s 67ms/step - loss: 0.2364 - accuracy: 0.9088\n",
            "Epoch 136/140\n",
            "21/21 [==============================] - 1s 69ms/step - loss: 0.1532 - accuracy: 0.9548\n",
            "Epoch 137/140\n",
            "21/21 [==============================] - 1s 67ms/step - loss: 0.1087 - accuracy: 0.9759\n",
            "Epoch 138/140\n",
            "21/21 [==============================] - 1s 68ms/step - loss: 0.1481 - accuracy: 0.9606\n",
            "Epoch 139/140\n",
            "21/21 [==============================] - 1s 68ms/step - loss: 0.1142 - accuracy: 0.9715\n",
            "Epoch 140/140\n",
            "21/21 [==============================] - 1s 68ms/step - loss: 0.1043 - accuracy: 0.9719\n"
          ],
          "name": "stdout"
        },
        {
          "output_type": "execute_result",
          "data": {
            "text/plain": [
              "<tensorflow.python.keras.callbacks.History at 0x7fd72bfba0d0>"
            ]
          },
          "metadata": {
            "tags": []
          },
          "execution_count": 109
        }
      ]
    },
    {
      "cell_type": "code",
      "metadata": {
        "colab": {
          "base_uri": "https://localhost:8080/"
        },
        "id": "CJR557ETI9zT",
        "outputId": "ae55eaf4-c45a-40e7-b004-ae06187eec57"
      },
      "source": [
        "modal.predict(test_data2)\n"
      ],
      "execution_count": 115,
      "outputs": [
        {
          "output_type": "execute_result",
          "data": {
            "text/plain": [
              "array([[9.90196943e-01, 8.05632304e-03, 1.74682401e-03, ...,\n",
              "        8.11186405e-13, 8.54014023e-15, 5.35819761e-14],\n",
              "       [2.58702738e-03, 2.02852068e-03, 9.95378733e-01, ...,\n",
              "        2.94259991e-07, 2.51087595e-09, 2.30976021e-08],\n",
              "       [9.21585619e-01, 4.55795899e-02, 3.28347124e-02, ...,\n",
              "        3.76627707e-09, 7.00822456e-11, 4.45077697e-10],\n",
              "       ...,\n",
              "       [1.14382796e-01, 8.78024936e-01, 7.59223290e-03, ...,\n",
              "        4.57713811e-10, 1.33377927e-11, 9.28923535e-11],\n",
              "       [4.36523050e-01, 5.14515281e-01, 4.89610322e-02, ...,\n",
              "        8.60160227e-08, 6.01253847e-09, 3.13771586e-08],\n",
              "       [9.71289631e-03, 6.87358379e-01, 3.02928716e-01, ...,\n",
              "        3.80419385e-09, 4.84513853e-11, 3.90164706e-10]], dtype=float32)"
            ]
          },
          "metadata": {
            "tags": []
          },
          "execution_count": 115
        }
      ]
    },
    {
      "cell_type": "code",
      "metadata": {
        "colab": {
          "base_uri": "https://localhost:8080/"
        },
        "id": "UjEuF15AJpwQ",
        "outputId": "c33595ef-a44c-4293-bb0e-0a303a6e31e3"
      },
      "source": [
        "modal.evaluate(test_data2,test_labels2)"
      ],
      "execution_count": 118,
      "outputs": [
        {
          "output_type": "stream",
          "text": [
            "55/55 [==============================] - 1s 12ms/step - loss: 4.0954 - accuracy: 0.2152\n"
          ],
          "name": "stdout"
        },
        {
          "output_type": "execute_result",
          "data": {
            "text/plain": [
              "[4.095402717590332, 0.2151532620191574]"
            ]
          },
          "metadata": {
            "tags": []
          },
          "execution_count": 118
        }
      ]
    }
  ]
}