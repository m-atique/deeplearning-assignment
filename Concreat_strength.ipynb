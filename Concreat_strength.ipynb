{
  "nbformat": 4,
  "nbformat_minor": 0,
  "metadata": {
    "colab": {
      "name": "Concreat strength.ipynb",
      "provenance": [],
      "collapsed_sections": [],
      "toc_visible": true,
      "authorship_tag": "ABX9TyPpejuYBlX0f+7RFsXQgslG",
      "include_colab_link": true
    },
    "kernelspec": {
      "name": "python3",
      "display_name": "Python 3"
    },
    "language_info": {
      "name": "python"
    }
  },
  "cells": [
    {
      "cell_type": "markdown",
      "metadata": {
        "id": "view-in-github",
        "colab_type": "text"
      },
      "source": [
        "<a href=\"https://colab.research.google.com/github/m-atique/deeplearning-assignment/blob/main/Concreat_strength.ipynb\" target=\"_parent\"><img src=\"https://colab.research.google.com/assets/colab-badge.svg\" alt=\"Open In Colab\"/></a>"
      ]
    },
    {
      "cell_type": "markdown",
      "metadata": {
        "id": "8iZsW5MLbzlj"
      },
      "source": [
        "# =====  Assignment: Compresive Strength Concrete Problem======================"
      ]
    },
    {
      "cell_type": "code",
      "metadata": {
        "colab": {
          "resources": {
            "http://localhost:8080/nbextensions/google.colab/files.js": {
              "data": "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",
              "ok": true,
              "headers": [
                [
                  "content-type",
                  "application/javascript"
                ]
              ],
              "status": 200,
              "status_text": ""
            }
          },
          "base_uri": "https://localhost:8080/",
          "height": 72
        },
        "id": "q3ZSbTJeb1j9",
        "outputId": "970228de-3e96-45e2-d348-de9fbc14ba8b"
      },
      "source": [
        "import io\n",
        "from google.colab import files\n",
        "uploaded = files.upload()"
      ],
      "execution_count": null,
      "outputs": [
        {
          "output_type": "display_data",
          "data": {
            "text/html": [
              "\n",
              "     <input type=\"file\" id=\"files-5cbdc81e-9171-4a8b-919f-2c206b126c50\" name=\"files[]\" multiple disabled\n",
              "        style=\"border:none\" />\n",
              "     <output id=\"result-5cbdc81e-9171-4a8b-919f-2c206b126c50\">\n",
              "      Upload widget is only available when the cell has been executed in the\n",
              "      current browser session. Please rerun this cell to enable.\n",
              "      </output>\n",
              "      <script src=\"/nbextensions/google.colab/files.js\"></script> "
            ],
            "text/plain": [
              "<IPython.core.display.HTML object>"
            ]
          },
          "metadata": {
            "tags": []
          }
        },
        {
          "output_type": "stream",
          "text": [
            "Saving compresive_strength_concrete.csv to compresive_strength_concrete (1).csv\n"
          ],
          "name": "stdout"
        }
      ]
    },
    {
      "cell_type": "code",
      "metadata": {
        "id": "sYzVHSZuckkT"
      },
      "source": [
        "import numpy as np\n",
        "import pandas as pd\n",
        "import matplotlib.pyplot as plt\n",
        "import tensorflow"
      ],
      "execution_count": null,
      "outputs": []
    },
    {
      "cell_type": "code",
      "metadata": {
        "id": "OMUn6G-Fcs-t"
      },
      "source": [
        "df = pd.read_csv(io.BytesIO(uploaded['compresive_strength_concrete.csv']))"
      ],
      "execution_count": null,
      "outputs": []
    },
    {
      "cell_type": "code",
      "metadata": {
        "id": "2h26QVgkgJax"
      },
      "source": [
        "from google.colab import drive\n",
        "drive.mount('/content/drive')"
      ],
      "execution_count": null,
      "outputs": []
    },
    {
      "cell_type": "code",
      "metadata": {
        "colab": {
          "base_uri": "https://localhost:8080/",
          "height": 272
        },
        "id": "0_UUnfesc5mQ",
        "outputId": "20dc9146-2643-43a1-8921-9dc595e42ddd"
      },
      "source": [
        "display(df.head())\n",
        "print(df.shape)"
      ],
      "execution_count": null,
      "outputs": [
        {
          "output_type": "display_data",
          "data": {
            "text/html": [
              "<div>\n",
              "<style scoped>\n",
              "    .dataframe tbody tr th:only-of-type {\n",
              "        vertical-align: middle;\n",
              "    }\n",
              "\n",
              "    .dataframe tbody tr th {\n",
              "        vertical-align: top;\n",
              "    }\n",
              "\n",
              "    .dataframe thead th {\n",
              "        text-align: right;\n",
              "    }\n",
              "</style>\n",
              "<table border=\"1\" class=\"dataframe\">\n",
              "  <thead>\n",
              "    <tr style=\"text-align: right;\">\n",
              "      <th></th>\n",
              "      <th>Cement (component 1)(kg in a m^3 mixture)</th>\n",
              "      <th>Blast Furnace Slag (component 2)(kg in a m^3 mixture)</th>\n",
              "      <th>Fly Ash (component 3)(kg in a m^3 mixture)</th>\n",
              "      <th>Water  (component 4)(kg in a m^3 mixture)</th>\n",
              "      <th>Superplasticizer (component 5)(kg in a m^3 mixture)</th>\n",
              "      <th>Coarse Aggregate  (component 6)(kg in a m^3 mixture)</th>\n",
              "      <th>Fine Aggregate (component 7)(kg in a m^3 mixture)</th>\n",
              "      <th>Age (day)</th>\n",
              "      <th>Concrete compressive strength(MPa, megapascals)</th>\n",
              "    </tr>\n",
              "  </thead>\n",
              "  <tbody>\n",
              "    <tr>\n",
              "      <th>0</th>\n",
              "      <td>540.0</td>\n",
              "      <td>0.0</td>\n",
              "      <td>0.0</td>\n",
              "      <td>162.0</td>\n",
              "      <td>2.5</td>\n",
              "      <td>1040.0</td>\n",
              "      <td>676.0</td>\n",
              "      <td>28</td>\n",
              "      <td>79.99</td>\n",
              "    </tr>\n",
              "    <tr>\n",
              "      <th>1</th>\n",
              "      <td>540.0</td>\n",
              "      <td>0.0</td>\n",
              "      <td>0.0</td>\n",
              "      <td>162.0</td>\n",
              "      <td>2.5</td>\n",
              "      <td>1055.0</td>\n",
              "      <td>676.0</td>\n",
              "      <td>28</td>\n",
              "      <td>61.89</td>\n",
              "    </tr>\n",
              "    <tr>\n",
              "      <th>2</th>\n",
              "      <td>332.5</td>\n",
              "      <td>142.5</td>\n",
              "      <td>0.0</td>\n",
              "      <td>228.0</td>\n",
              "      <td>0.0</td>\n",
              "      <td>932.0</td>\n",
              "      <td>594.0</td>\n",
              "      <td>270</td>\n",
              "      <td>40.27</td>\n",
              "    </tr>\n",
              "    <tr>\n",
              "      <th>3</th>\n",
              "      <td>332.5</td>\n",
              "      <td>142.5</td>\n",
              "      <td>0.0</td>\n",
              "      <td>228.0</td>\n",
              "      <td>0.0</td>\n",
              "      <td>932.0</td>\n",
              "      <td>594.0</td>\n",
              "      <td>365</td>\n",
              "      <td>41.05</td>\n",
              "    </tr>\n",
              "    <tr>\n",
              "      <th>4</th>\n",
              "      <td>198.6</td>\n",
              "      <td>132.4</td>\n",
              "      <td>0.0</td>\n",
              "      <td>192.0</td>\n",
              "      <td>0.0</td>\n",
              "      <td>978.4</td>\n",
              "      <td>825.5</td>\n",
              "      <td>360</td>\n",
              "      <td>44.30</td>\n",
              "    </tr>\n",
              "  </tbody>\n",
              "</table>\n",
              "</div>"
            ],
            "text/plain": [
              "   Cement (component 1)(kg in a m^3 mixture)  ...  Concrete compressive strength(MPa, megapascals) \n",
              "0                                      540.0  ...                                             79.99\n",
              "1                                      540.0  ...                                             61.89\n",
              "2                                      332.5  ...                                             40.27\n",
              "3                                      332.5  ...                                             41.05\n",
              "4                                      198.6  ...                                             44.30\n",
              "\n",
              "[5 rows x 9 columns]"
            ]
          },
          "metadata": {
            "tags": []
          }
        },
        {
          "output_type": "stream",
          "text": [
            "(1030, 9)\n"
          ],
          "name": "stdout"
        }
      ]
    },
    {
      "cell_type": "code",
      "metadata": {
        "colab": {
          "base_uri": "https://localhost:8080/"
        },
        "id": "DyBeJXKxdQLL",
        "outputId": "cd35154a-491c-4f0f-b928-58fb17172820"
      },
      "source": [
        "df.isnull().sum()"
      ],
      "execution_count": null,
      "outputs": [
        {
          "output_type": "execute_result",
          "data": {
            "text/plain": [
              "Cement (component 1)(kg in a m^3 mixture)                0\n",
              "Blast Furnace Slag (component 2)(kg in a m^3 mixture)    0\n",
              "Fly Ash (component 3)(kg in a m^3 mixture)               0\n",
              "Water  (component 4)(kg in a m^3 mixture)                0\n",
              "Superplasticizer (component 5)(kg in a m^3 mixture)      0\n",
              "Coarse Aggregate  (component 6)(kg in a m^3 mixture)     0\n",
              "Fine Aggregate (component 7)(kg in a m^3 mixture)        0\n",
              "Age (day)                                                0\n",
              "Concrete compressive strength(MPa, megapascals)          0\n",
              "dtype: int64"
            ]
          },
          "metadata": {
            "tags": []
          },
          "execution_count": 55
        }
      ]
    },
    {
      "cell_type": "code",
      "metadata": {
        "colab": {
          "base_uri": "https://localhost:8080/"
        },
        "id": "YR-0uIOPda-9",
        "outputId": "0071f91e-d590-4d1c-e346-b6523794d388"
      },
      "source": [
        "df.info()"
      ],
      "execution_count": null,
      "outputs": [
        {
          "output_type": "stream",
          "text": [
            "<class 'pandas.core.frame.DataFrame'>\n",
            "RangeIndex: 1030 entries, 0 to 1029\n",
            "Data columns (total 9 columns):\n",
            " #   Column                                                 Non-Null Count  Dtype  \n",
            "---  ------                                                 --------------  -----  \n",
            " 0   Cement (component 1)(kg in a m^3 mixture)              1030 non-null   float64\n",
            " 1   Blast Furnace Slag (component 2)(kg in a m^3 mixture)  1030 non-null   float64\n",
            " 2   Fly Ash (component 3)(kg in a m^3 mixture)             1030 non-null   float64\n",
            " 3   Water  (component 4)(kg in a m^3 mixture)              1030 non-null   float64\n",
            " 4   Superplasticizer (component 5)(kg in a m^3 mixture)    1030 non-null   float64\n",
            " 5   Coarse Aggregate  (component 6)(kg in a m^3 mixture)   1030 non-null   float64\n",
            " 6   Fine Aggregate (component 7)(kg in a m^3 mixture)      1030 non-null   float64\n",
            " 7   Age (day)                                              1030 non-null   int64  \n",
            " 8   Concrete compressive strength(MPa, megapascals)        1030 non-null   float64\n",
            "dtypes: float64(8), int64(1)\n",
            "memory usage: 72.5 KB\n"
          ],
          "name": "stdout"
        }
      ]
    },
    {
      "cell_type": "code",
      "metadata": {
        "colab": {
          "base_uri": "https://localhost:8080/"
        },
        "id": "9WGGTUpGdfDo",
        "outputId": "59ace0df-a77e-4350-c947-f28f4bc9e877"
      },
      "source": [
        "df.columns"
      ],
      "execution_count": null,
      "outputs": [
        {
          "output_type": "execute_result",
          "data": {
            "text/plain": [
              "Index(['Cement (component 1)(kg in a m^3 mixture)',\n",
              "       'Blast Furnace Slag (component 2)(kg in a m^3 mixture)',\n",
              "       'Fly Ash (component 3)(kg in a m^3 mixture)',\n",
              "       'Water  (component 4)(kg in a m^3 mixture)',\n",
              "       'Superplasticizer (component 5)(kg in a m^3 mixture)',\n",
              "       'Coarse Aggregate  (component 6)(kg in a m^3 mixture)',\n",
              "       'Fine Aggregate (component 7)(kg in a m^3 mixture)', 'Age (day)',\n",
              "       'Concrete compressive strength(MPa, megapascals) '],\n",
              "      dtype='object')"
            ]
          },
          "metadata": {
            "tags": []
          },
          "execution_count": 56
        }
      ]
    },
    {
      "cell_type": "code",
      "metadata": {
        "id": "cfK48tGifwCZ"
      },
      "source": [
        "y = df['Concrete compressive strength(MPa, megapascals) ']"
      ],
      "execution_count": null,
      "outputs": []
    },
    {
      "cell_type": "code",
      "metadata": {
        "id": "XbIAJs64ghRF"
      },
      "source": [
        "df.drop(columns='Concrete compressive strength(MPa, megapascals) ', inplace=True)"
      ],
      "execution_count": null,
      "outputs": []
    },
    {
      "cell_type": "code",
      "metadata": {
        "colab": {
          "base_uri": "https://localhost:8080/"
        },
        "id": "J2GJlwH_hfk4",
        "outputId": "dfdb3996-21d1-4ec2-eaf7-a03f95a961a2"
      },
      "source": [
        "df.shape"
      ],
      "execution_count": null,
      "outputs": [
        {
          "output_type": "execute_result",
          "data": {
            "text/plain": [
              "(1030, 8)"
            ]
          },
          "metadata": {
            "tags": []
          },
          "execution_count": 60
        }
      ]
    },
    {
      "cell_type": "code",
      "metadata": {
        "id": "PV-Oo4uThYIV"
      },
      "source": [
        "train_data = df[:516]\n",
        "train_labels = y[:516]\n",
        "test_data = df[516:814]\n",
        "test_labels = y[516:814]\n",
        "val_data = df[814:]\n",
        "val_labels = y[814:]"
      ],
      "execution_count": null,
      "outputs": []
    },
    {
      "cell_type": "code",
      "metadata": {
        "id": "3AO_4SF5i4J9"
      },
      "source": [
        "mean = train_data.mean(axis=0)\n",
        "std = train_data.std(axis=0)"
      ],
      "execution_count": null,
      "outputs": []
    },
    {
      "cell_type": "code",
      "metadata": {
        "id": "ibHUj64XikZ7"
      },
      "source": [
        "train_data -= mean\n",
        "train_data /= std\n",
        "#---------------------------\n",
        "test_data -= mean\n",
        "test_data /= std\n",
        "#--------------------------\n",
        "val_data -= mean\n",
        "val_data /= std"
      ],
      "execution_count": null,
      "outputs": []
    },
    {
      "cell_type": "code",
      "metadata": {
        "id": "yRcUQGSTjjIB"
      },
      "source": [
        "from tensorflow.keras import models,layers"
      ],
      "execution_count": null,
      "outputs": []
    },
    {
      "cell_type": "code",
      "metadata": {
        "id": "lp2vI1kJjt_P"
      },
      "source": [
        "model= models.Sequential()\n",
        "model.add(layers.Dense(512, activation= 'relu', input_shape = (train_data.shape[1],)))\n",
        "model.add(layers.Dense(128, activation='relu'))\n",
        "model.add(layers.Dense(32, activation='relu'))\n",
        "model.add(layers.Dense(1))"
      ],
      "execution_count": null,
      "outputs": []
    },
    {
      "cell_type": "code",
      "metadata": {
        "id": "R5WTGybSkFia"
      },
      "source": [
        "model.compile(optimizer='rmsprop', loss='mse', metrics='mae')"
      ],
      "execution_count": null,
      "outputs": []
    },
    {
      "cell_type": "code",
      "metadata": {
        "colab": {
          "base_uri": "https://localhost:8080/"
        },
        "id": "vyCz6hQKkNfM",
        "outputId": "df583247-9b27-444e-dea3-067918b38508"
      },
      "source": [
        "history = model.fit(train_data,train_labels, batch_size=16,  epochs=200, validation_data=(val_data, val_labels))"
      ],
      "execution_count": null,
      "outputs": [
        {
          "output_type": "stream",
          "text": [
            "Epoch 1/200\n",
            "33/33 [==============================] - 1s 8ms/step - loss: 1666.0898 - mae: 36.6876 - val_loss: 181.7983 - val_mae: 10.9904\n",
            "Epoch 2/200\n",
            "33/33 [==============================] - 0s 4ms/step - loss: 294.9237 - mae: 14.3197 - val_loss: 195.6440 - val_mae: 11.2727\n",
            "Epoch 3/200\n",
            "33/33 [==============================] - 0s 4ms/step - loss: 230.3797 - mae: 12.5427 - val_loss: 177.6962 - val_mae: 10.7220\n",
            "Epoch 4/200\n",
            "33/33 [==============================] - 0s 3ms/step - loss: 184.8874 - mae: 11.2436 - val_loss: 163.0875 - val_mae: 10.4650\n",
            "Epoch 5/200\n",
            "33/33 [==============================] - 0s 3ms/step - loss: 174.3331 - mae: 10.8316 - val_loss: 215.0111 - val_mae: 12.1696\n",
            "Epoch 6/200\n",
            "33/33 [==============================] - 0s 4ms/step - loss: 151.0610 - mae: 10.0449 - val_loss: 169.8460 - val_mae: 10.6331\n",
            "Epoch 7/200\n",
            "33/33 [==============================] - 0s 4ms/step - loss: 157.6433 - mae: 10.3707 - val_loss: 181.8251 - val_mae: 10.9073\n",
            "Epoch 8/200\n",
            "33/33 [==============================] - 0s 3ms/step - loss: 153.4220 - mae: 10.1437 - val_loss: 218.6243 - val_mae: 12.1930\n",
            "Epoch 9/200\n",
            "33/33 [==============================] - 0s 3ms/step - loss: 138.5977 - mae: 9.3809 - val_loss: 199.1088 - val_mae: 11.5032\n",
            "Epoch 10/200\n",
            "33/33 [==============================] - 0s 3ms/step - loss: 138.4121 - mae: 9.6958 - val_loss: 235.5653 - val_mae: 12.3794\n",
            "Epoch 11/200\n",
            "33/33 [==============================] - 0s 4ms/step - loss: 133.9240 - mae: 9.3879 - val_loss: 189.7067 - val_mae: 11.3168\n",
            "Epoch 12/200\n",
            "33/33 [==============================] - 0s 3ms/step - loss: 129.5465 - mae: 9.1491 - val_loss: 221.1120 - val_mae: 12.0703\n",
            "Epoch 13/200\n",
            "33/33 [==============================] - 0s 4ms/step - loss: 125.9728 - mae: 8.9202 - val_loss: 220.3022 - val_mae: 11.8445\n",
            "Epoch 14/200\n",
            "33/33 [==============================] - 0s 3ms/step - loss: 114.6418 - mae: 8.4245 - val_loss: 275.9557 - val_mae: 13.1525\n",
            "Epoch 15/200\n",
            "33/33 [==============================] - 0s 4ms/step - loss: 117.3469 - mae: 8.7342 - val_loss: 200.3289 - val_mae: 11.4917\n",
            "Epoch 16/200\n",
            "33/33 [==============================] - 0s 4ms/step - loss: 102.0040 - mae: 7.9438 - val_loss: 272.7657 - val_mae: 12.9766\n",
            "Epoch 17/200\n",
            "33/33 [==============================] - 0s 4ms/step - loss: 106.9221 - mae: 8.3042 - val_loss: 291.4471 - val_mae: 13.3388\n",
            "Epoch 18/200\n",
            "33/33 [==============================] - 0s 4ms/step - loss: 104.2311 - mae: 8.1195 - val_loss: 285.0809 - val_mae: 13.3288\n",
            "Epoch 19/200\n",
            "33/33 [==============================] - 0s 4ms/step - loss: 108.6632 - mae: 8.1411 - val_loss: 259.5089 - val_mae: 12.5959\n",
            "Epoch 20/200\n",
            "33/33 [==============================] - 0s 4ms/step - loss: 82.8682 - mae: 7.1681 - val_loss: 241.5202 - val_mae: 12.1141\n",
            "Epoch 21/200\n",
            "33/33 [==============================] - 0s 3ms/step - loss: 92.8500 - mae: 7.6238 - val_loss: 325.5276 - val_mae: 14.1019\n",
            "Epoch 22/200\n",
            "33/33 [==============================] - 0s 3ms/step - loss: 92.8235 - mae: 7.5667 - val_loss: 234.4233 - val_mae: 11.8692\n",
            "Epoch 23/200\n",
            "33/33 [==============================] - 0s 3ms/step - loss: 88.6523 - mae: 7.3482 - val_loss: 372.6541 - val_mae: 15.2165\n",
            "Epoch 24/200\n",
            "33/33 [==============================] - 0s 4ms/step - loss: 89.4264 - mae: 7.5445 - val_loss: 312.3015 - val_mae: 13.7330\n",
            "Epoch 25/200\n",
            "33/33 [==============================] - 0s 4ms/step - loss: 73.9319 - mae: 6.6498 - val_loss: 282.5921 - val_mae: 13.1072\n",
            "Epoch 26/200\n",
            "33/33 [==============================] - 0s 3ms/step - loss: 63.0629 - mae: 6.3641 - val_loss: 204.3330 - val_mae: 11.3222\n",
            "Epoch 27/200\n",
            "33/33 [==============================] - 0s 4ms/step - loss: 77.0300 - mae: 7.1498 - val_loss: 242.0105 - val_mae: 12.1711\n",
            "Epoch 28/200\n",
            "33/33 [==============================] - 0s 3ms/step - loss: 64.9554 - mae: 6.2951 - val_loss: 241.6169 - val_mae: 12.1828\n",
            "Epoch 29/200\n",
            "33/33 [==============================] - 0s 4ms/step - loss: 60.1609 - mae: 5.9773 - val_loss: 235.6818 - val_mae: 11.9873\n",
            "Epoch 30/200\n",
            "33/33 [==============================] - 0s 4ms/step - loss: 59.6049 - mae: 6.1082 - val_loss: 280.4525 - val_mae: 12.9613\n",
            "Epoch 31/200\n",
            "33/33 [==============================] - 0s 4ms/step - loss: 52.8053 - mae: 5.6903 - val_loss: 302.3357 - val_mae: 13.4142\n",
            "Epoch 32/200\n",
            "33/33 [==============================] - 0s 4ms/step - loss: 56.4363 - mae: 6.0191 - val_loss: 310.4516 - val_mae: 13.8067\n",
            "Epoch 33/200\n",
            "33/33 [==============================] - 0s 4ms/step - loss: 51.4566 - mae: 5.7383 - val_loss: 298.5103 - val_mae: 13.4268\n",
            "Epoch 34/200\n",
            "33/33 [==============================] - 0s 4ms/step - loss: 47.8947 - mae: 5.4413 - val_loss: 217.5468 - val_mae: 11.5516\n",
            "Epoch 35/200\n",
            "33/33 [==============================] - 0s 4ms/step - loss: 47.2271 - mae: 5.3917 - val_loss: 224.3712 - val_mae: 11.4955\n",
            "Epoch 36/200\n",
            "33/33 [==============================] - 0s 4ms/step - loss: 41.4854 - mae: 5.1737 - val_loss: 225.3633 - val_mae: 11.7371\n",
            "Epoch 37/200\n",
            "33/33 [==============================] - 0s 4ms/step - loss: 49.2570 - mae: 5.6147 - val_loss: 265.7216 - val_mae: 12.4605\n",
            "Epoch 38/200\n",
            "33/33 [==============================] - 0s 4ms/step - loss: 47.8134 - mae: 5.4481 - val_loss: 258.4441 - val_mae: 12.6430\n",
            "Epoch 39/200\n",
            "33/33 [==============================] - 0s 4ms/step - loss: 43.1850 - mae: 4.9591 - val_loss: 404.9417 - val_mae: 16.0373\n",
            "Epoch 40/200\n",
            "33/33 [==============================] - 0s 4ms/step - loss: 42.0603 - mae: 5.1232 - val_loss: 336.7771 - val_mae: 14.2304\n",
            "Epoch 41/200\n",
            "33/33 [==============================] - 0s 4ms/step - loss: 39.2262 - mae: 4.7371 - val_loss: 194.8239 - val_mae: 11.1616\n",
            "Epoch 42/200\n",
            "33/33 [==============================] - 0s 3ms/step - loss: 39.0060 - mae: 4.7772 - val_loss: 343.4561 - val_mae: 14.7201\n",
            "Epoch 43/200\n",
            "33/33 [==============================] - 0s 4ms/step - loss: 34.4150 - mae: 4.6118 - val_loss: 303.4820 - val_mae: 13.7595\n",
            "Epoch 44/200\n",
            "33/33 [==============================] - 0s 4ms/step - loss: 30.9281 - mae: 4.3419 - val_loss: 285.1014 - val_mae: 13.2556\n",
            "Epoch 45/200\n",
            "33/33 [==============================] - 0s 4ms/step - loss: 36.8536 - mae: 4.6421 - val_loss: 324.6685 - val_mae: 14.0238\n",
            "Epoch 46/200\n",
            "33/33 [==============================] - 0s 4ms/step - loss: 31.2769 - mae: 4.3473 - val_loss: 261.6304 - val_mae: 12.4764\n",
            "Epoch 47/200\n",
            "33/33 [==============================] - 0s 4ms/step - loss: 29.8622 - mae: 4.1785 - val_loss: 296.1890 - val_mae: 13.4878\n",
            "Epoch 48/200\n",
            "33/33 [==============================] - 0s 3ms/step - loss: 27.5179 - mae: 3.9574 - val_loss: 258.1299 - val_mae: 12.3131\n",
            "Epoch 49/200\n",
            "33/33 [==============================] - 0s 3ms/step - loss: 26.1096 - mae: 3.9559 - val_loss: 351.5990 - val_mae: 14.7273\n",
            "Epoch 50/200\n",
            "33/33 [==============================] - 0s 3ms/step - loss: 27.2869 - mae: 4.0205 - val_loss: 200.6454 - val_mae: 10.8688\n",
            "Epoch 51/200\n",
            "33/33 [==============================] - 0s 3ms/step - loss: 29.4092 - mae: 4.1341 - val_loss: 254.3551 - val_mae: 12.5718\n",
            "Epoch 52/200\n",
            "33/33 [==============================] - 0s 4ms/step - loss: 29.3455 - mae: 4.1233 - val_loss: 185.7358 - val_mae: 10.3634\n",
            "Epoch 53/200\n",
            "33/33 [==============================] - 0s 4ms/step - loss: 28.3362 - mae: 4.1297 - val_loss: 266.9467 - val_mae: 12.4829\n",
            "Epoch 54/200\n",
            "33/33 [==============================] - 0s 4ms/step - loss: 29.9929 - mae: 4.1530 - val_loss: 251.5388 - val_mae: 12.4038\n",
            "Epoch 55/200\n",
            "33/33 [==============================] - 0s 4ms/step - loss: 27.3912 - mae: 4.0607 - val_loss: 313.3327 - val_mae: 13.9215\n",
            "Epoch 56/200\n",
            "33/33 [==============================] - 0s 4ms/step - loss: 31.6487 - mae: 4.2011 - val_loss: 311.3131 - val_mae: 13.9250\n",
            "Epoch 57/200\n",
            "33/33 [==============================] - 0s 4ms/step - loss: 22.3888 - mae: 3.7577 - val_loss: 233.4429 - val_mae: 11.6669\n",
            "Epoch 58/200\n",
            "33/33 [==============================] - 0s 4ms/step - loss: 22.9175 - mae: 3.6065 - val_loss: 245.0072 - val_mae: 12.0402\n",
            "Epoch 59/200\n",
            "33/33 [==============================] - 0s 4ms/step - loss: 25.2368 - mae: 3.7775 - val_loss: 173.9530 - val_mae: 10.0477\n",
            "Epoch 60/200\n",
            "33/33 [==============================] - 0s 4ms/step - loss: 26.1754 - mae: 3.8137 - val_loss: 297.8251 - val_mae: 13.6782\n",
            "Epoch 61/200\n",
            "33/33 [==============================] - 0s 4ms/step - loss: 25.0985 - mae: 3.7585 - val_loss: 281.8805 - val_mae: 13.2101\n",
            "Epoch 62/200\n",
            "33/33 [==============================] - 0s 3ms/step - loss: 23.5398 - mae: 3.8020 - val_loss: 290.4831 - val_mae: 13.5185\n",
            "Epoch 63/200\n",
            "33/33 [==============================] - 0s 4ms/step - loss: 23.6329 - mae: 3.7636 - val_loss: 311.3565 - val_mae: 13.8789\n",
            "Epoch 64/200\n",
            "33/33 [==============================] - 0s 4ms/step - loss: 24.2363 - mae: 3.6550 - val_loss: 273.0784 - val_mae: 12.6960\n",
            "Epoch 65/200\n",
            "33/33 [==============================] - 0s 4ms/step - loss: 24.0337 - mae: 3.8136 - val_loss: 248.6354 - val_mae: 12.1398\n",
            "Epoch 66/200\n",
            "33/33 [==============================] - 0s 4ms/step - loss: 19.9133 - mae: 3.4085 - val_loss: 224.7051 - val_mae: 11.4301\n",
            "Epoch 67/200\n",
            "33/33 [==============================] - 0s 4ms/step - loss: 24.7416 - mae: 3.6571 - val_loss: 226.3099 - val_mae: 11.4705\n",
            "Epoch 68/200\n",
            "33/33 [==============================] - 0s 4ms/step - loss: 20.2911 - mae: 3.3445 - val_loss: 227.3886 - val_mae: 11.5454\n",
            "Epoch 69/200\n",
            "33/33 [==============================] - 0s 4ms/step - loss: 19.2329 - mae: 3.3707 - val_loss: 198.3600 - val_mae: 10.8307\n",
            "Epoch 70/200\n",
            "33/33 [==============================] - 0s 4ms/step - loss: 20.5841 - mae: 3.4010 - val_loss: 228.6896 - val_mae: 11.5254\n",
            "Epoch 71/200\n",
            "33/33 [==============================] - 0s 4ms/step - loss: 21.6729 - mae: 3.4628 - val_loss: 246.8165 - val_mae: 12.2855\n",
            "Epoch 72/200\n",
            "33/33 [==============================] - 0s 4ms/step - loss: 22.4107 - mae: 3.6148 - val_loss: 205.3371 - val_mae: 11.0332\n",
            "Epoch 73/200\n",
            "33/33 [==============================] - 0s 4ms/step - loss: 20.3156 - mae: 3.3896 - val_loss: 331.8025 - val_mae: 14.3261\n",
            "Epoch 74/200\n",
            "33/33 [==============================] - 0s 3ms/step - loss: 23.8589 - mae: 3.5783 - val_loss: 262.2104 - val_mae: 12.8059\n",
            "Epoch 75/200\n",
            "33/33 [==============================] - 0s 4ms/step - loss: 22.1091 - mae: 3.5554 - val_loss: 249.6863 - val_mae: 12.3738\n",
            "Epoch 76/200\n",
            "33/33 [==============================] - 0s 4ms/step - loss: 18.4266 - mae: 3.3305 - val_loss: 273.7014 - val_mae: 13.0668\n",
            "Epoch 77/200\n",
            "33/33 [==============================] - 0s 4ms/step - loss: 23.6590 - mae: 3.7076 - val_loss: 172.0921 - val_mae: 9.9559\n",
            "Epoch 78/200\n",
            "33/33 [==============================] - 0s 4ms/step - loss: 18.8210 - mae: 3.2996 - val_loss: 249.5376 - val_mae: 12.3762\n",
            "Epoch 79/200\n",
            "33/33 [==============================] - 0s 4ms/step - loss: 15.8900 - mae: 2.9515 - val_loss: 279.7461 - val_mae: 13.3237\n",
            "Epoch 80/200\n",
            "33/33 [==============================] - 0s 4ms/step - loss: 19.2160 - mae: 3.2903 - val_loss: 226.9238 - val_mae: 11.7041\n",
            "Epoch 81/200\n",
            "33/33 [==============================] - 0s 4ms/step - loss: 21.0531 - mae: 3.3702 - val_loss: 300.1352 - val_mae: 13.6483\n",
            "Epoch 82/200\n",
            "33/33 [==============================] - 0s 4ms/step - loss: 20.4714 - mae: 3.4938 - val_loss: 247.4969 - val_mae: 12.4072\n",
            "Epoch 83/200\n",
            "33/33 [==============================] - 0s 4ms/step - loss: 17.8817 - mae: 3.1269 - val_loss: 222.3639 - val_mae: 11.4792\n",
            "Epoch 84/200\n",
            "33/33 [==============================] - 0s 4ms/step - loss: 20.9033 - mae: 3.4455 - val_loss: 242.7099 - val_mae: 11.9443\n",
            "Epoch 85/200\n",
            "33/33 [==============================] - 0s 4ms/step - loss: 17.9725 - mae: 3.1958 - val_loss: 273.9418 - val_mae: 13.1676\n",
            "Epoch 86/200\n",
            "33/33 [==============================] - 0s 4ms/step - loss: 22.5046 - mae: 3.4849 - val_loss: 256.2087 - val_mae: 12.4738\n",
            "Epoch 87/200\n",
            "33/33 [==============================] - 0s 4ms/step - loss: 21.9360 - mae: 3.4247 - val_loss: 214.3691 - val_mae: 11.4377\n",
            "Epoch 88/200\n",
            "33/33 [==============================] - 0s 4ms/step - loss: 16.0228 - mae: 3.0934 - val_loss: 244.9929 - val_mae: 12.3198\n",
            "Epoch 89/200\n",
            "33/33 [==============================] - 0s 4ms/step - loss: 18.3062 - mae: 3.0585 - val_loss: 287.8709 - val_mae: 13.4185\n",
            "Epoch 90/200\n",
            "33/33 [==============================] - 0s 4ms/step - loss: 18.0770 - mae: 3.2924 - val_loss: 263.5175 - val_mae: 13.0301\n",
            "Epoch 91/200\n",
            "33/33 [==============================] - 0s 4ms/step - loss: 21.7562 - mae: 3.4671 - val_loss: 270.3275 - val_mae: 13.1099\n",
            "Epoch 92/200\n",
            "33/33 [==============================] - 0s 4ms/step - loss: 18.9366 - mae: 3.1419 - val_loss: 396.6933 - val_mae: 16.3396\n",
            "Epoch 93/200\n",
            "33/33 [==============================] - 0s 3ms/step - loss: 21.6845 - mae: 3.4207 - val_loss: 260.3709 - val_mae: 12.6875\n",
            "Epoch 94/200\n",
            "33/33 [==============================] - 0s 4ms/step - loss: 20.3372 - mae: 3.3039 - val_loss: 156.8065 - val_mae: 9.6337\n",
            "Epoch 95/200\n",
            "33/33 [==============================] - 0s 3ms/step - loss: 21.3910 - mae: 3.2058 - val_loss: 221.0042 - val_mae: 11.5610\n",
            "Epoch 96/200\n",
            "33/33 [==============================] - 0s 3ms/step - loss: 16.0655 - mae: 2.8382 - val_loss: 283.9609 - val_mae: 13.6841\n",
            "Epoch 97/200\n",
            "33/33 [==============================] - 0s 3ms/step - loss: 19.2776 - mae: 3.1718 - val_loss: 281.8396 - val_mae: 13.3114\n",
            "Epoch 98/200\n",
            "33/33 [==============================] - 0s 4ms/step - loss: 18.5427 - mae: 3.1276 - val_loss: 376.8050 - val_mae: 15.8392\n",
            "Epoch 99/200\n",
            "33/33 [==============================] - 0s 4ms/step - loss: 23.1369 - mae: 3.2319 - val_loss: 165.7990 - val_mae: 10.0930\n",
            "Epoch 100/200\n",
            "33/33 [==============================] - 0s 4ms/step - loss: 19.5868 - mae: 3.1776 - val_loss: 275.8334 - val_mae: 13.3254\n",
            "Epoch 101/200\n",
            "33/33 [==============================] - 0s 4ms/step - loss: 16.8879 - mae: 3.0472 - val_loss: 235.3086 - val_mae: 11.8995\n",
            "Epoch 102/200\n",
            "33/33 [==============================] - 0s 4ms/step - loss: 19.9575 - mae: 3.3828 - val_loss: 246.0553 - val_mae: 12.2720\n",
            "Epoch 103/200\n",
            "33/33 [==============================] - 0s 4ms/step - loss: 15.4158 - mae: 2.9394 - val_loss: 298.7814 - val_mae: 13.7823\n",
            "Epoch 104/200\n",
            "33/33 [==============================] - 0s 4ms/step - loss: 15.3406 - mae: 2.8787 - val_loss: 256.2130 - val_mae: 12.4945\n",
            "Epoch 105/200\n",
            "33/33 [==============================] - 0s 4ms/step - loss: 14.6283 - mae: 2.8526 - val_loss: 150.1584 - val_mae: 9.4824\n",
            "Epoch 106/200\n",
            "33/33 [==============================] - 0s 4ms/step - loss: 20.8655 - mae: 3.3301 - val_loss: 250.9797 - val_mae: 12.4763\n",
            "Epoch 107/200\n",
            "33/33 [==============================] - 0s 4ms/step - loss: 19.5639 - mae: 3.3027 - val_loss: 248.4836 - val_mae: 12.4751\n",
            "Epoch 108/200\n",
            "33/33 [==============================] - 0s 4ms/step - loss: 17.0201 - mae: 3.1745 - val_loss: 248.6947 - val_mae: 12.4475\n",
            "Epoch 109/200\n",
            "33/33 [==============================] - 0s 4ms/step - loss: 17.8476 - mae: 3.2269 - val_loss: 254.2970 - val_mae: 12.5879\n",
            "Epoch 110/200\n",
            "33/33 [==============================] - 0s 4ms/step - loss: 15.5209 - mae: 2.8582 - val_loss: 204.4066 - val_mae: 11.2479\n",
            "Epoch 111/200\n",
            "33/33 [==============================] - 0s 4ms/step - loss: 18.9066 - mae: 3.1683 - val_loss: 211.6655 - val_mae: 11.4169\n",
            "Epoch 112/200\n",
            "33/33 [==============================] - 0s 4ms/step - loss: 15.3958 - mae: 2.9547 - val_loss: 232.4163 - val_mae: 11.9284\n",
            "Epoch 113/200\n",
            "33/33 [==============================] - 0s 4ms/step - loss: 18.8140 - mae: 3.2538 - val_loss: 318.1575 - val_mae: 14.2372\n",
            "Epoch 114/200\n",
            "33/33 [==============================] - 0s 4ms/step - loss: 16.1425 - mae: 2.9992 - val_loss: 222.7336 - val_mae: 11.8394\n",
            "Epoch 115/200\n",
            "33/33 [==============================] - 0s 4ms/step - loss: 18.3314 - mae: 3.2033 - val_loss: 283.1156 - val_mae: 13.2810\n",
            "Epoch 116/200\n",
            "33/33 [==============================] - 0s 3ms/step - loss: 17.7145 - mae: 3.2124 - val_loss: 199.6187 - val_mae: 10.8812\n",
            "Epoch 117/200\n",
            "33/33 [==============================] - 0s 4ms/step - loss: 18.7951 - mae: 3.0960 - val_loss: 299.1363 - val_mae: 13.8818\n",
            "Epoch 118/200\n",
            "33/33 [==============================] - 0s 4ms/step - loss: 16.7729 - mae: 3.0575 - val_loss: 410.1805 - val_mae: 16.8780\n",
            "Epoch 119/200\n",
            "33/33 [==============================] - 0s 4ms/step - loss: 25.4505 - mae: 3.6291 - val_loss: 393.4111 - val_mae: 16.3505\n",
            "Epoch 120/200\n",
            "33/33 [==============================] - 0s 4ms/step - loss: 18.9699 - mae: 3.2601 - val_loss: 217.8713 - val_mae: 11.5401\n",
            "Epoch 121/200\n",
            "33/33 [==============================] - 0s 4ms/step - loss: 16.6377 - mae: 3.0719 - val_loss: 233.2615 - val_mae: 12.0562\n",
            "Epoch 122/200\n",
            "33/33 [==============================] - 0s 4ms/step - loss: 16.5922 - mae: 3.0536 - val_loss: 219.8789 - val_mae: 11.7165\n",
            "Epoch 123/200\n",
            "33/33 [==============================] - 0s 4ms/step - loss: 20.6916 - mae: 3.2669 - val_loss: 283.5163 - val_mae: 13.5893\n",
            "Epoch 124/200\n",
            "33/33 [==============================] - 0s 4ms/step - loss: 17.3213 - mae: 3.0359 - val_loss: 281.6878 - val_mae: 13.4332\n",
            "Epoch 125/200\n",
            "33/33 [==============================] - 0s 4ms/step - loss: 16.0543 - mae: 2.9681 - val_loss: 215.4386 - val_mae: 11.4393\n",
            "Epoch 126/200\n",
            "33/33 [==============================] - 0s 4ms/step - loss: 20.8439 - mae: 3.2649 - val_loss: 173.1676 - val_mae: 10.2660\n",
            "Epoch 127/200\n",
            "33/33 [==============================] - 0s 4ms/step - loss: 15.3000 - mae: 2.9641 - val_loss: 258.4072 - val_mae: 12.6675\n",
            "Epoch 128/200\n",
            "33/33 [==============================] - 0s 4ms/step - loss: 19.4336 - mae: 3.3424 - val_loss: 239.1924 - val_mae: 12.0768\n",
            "Epoch 129/200\n",
            "33/33 [==============================] - 0s 4ms/step - loss: 16.6276 - mae: 3.0150 - val_loss: 219.4877 - val_mae: 11.6560\n",
            "Epoch 130/200\n",
            "33/33 [==============================] - 0s 4ms/step - loss: 15.9613 - mae: 2.7915 - val_loss: 222.0760 - val_mae: 11.8046\n",
            "Epoch 131/200\n",
            "33/33 [==============================] - 0s 4ms/step - loss: 19.9174 - mae: 3.0825 - val_loss: 238.8315 - val_mae: 12.2829\n",
            "Epoch 132/200\n",
            "33/33 [==============================] - 0s 4ms/step - loss: 20.5173 - mae: 3.2269 - val_loss: 271.5829 - val_mae: 13.1747\n",
            "Epoch 133/200\n",
            "33/33 [==============================] - 0s 4ms/step - loss: 18.4845 - mae: 2.9990 - val_loss: 230.5091 - val_mae: 12.2011\n",
            "Epoch 134/200\n",
            "33/33 [==============================] - 0s 4ms/step - loss: 18.8389 - mae: 3.2660 - val_loss: 215.7473 - val_mae: 11.5681\n",
            "Epoch 135/200\n",
            "33/33 [==============================] - 0s 3ms/step - loss: 12.7841 - mae: 2.5958 - val_loss: 163.9074 - val_mae: 9.9981\n",
            "Epoch 136/200\n",
            "33/33 [==============================] - 0s 3ms/step - loss: 20.4054 - mae: 3.3722 - val_loss: 269.5306 - val_mae: 13.3830\n",
            "Epoch 137/200\n",
            "33/33 [==============================] - 0s 4ms/step - loss: 16.4703 - mae: 3.0743 - val_loss: 229.3961 - val_mae: 12.1074\n",
            "Epoch 138/200\n",
            "33/33 [==============================] - 0s 4ms/step - loss: 14.8521 - mae: 2.8984 - val_loss: 166.3526 - val_mae: 10.2376\n",
            "Epoch 139/200\n",
            "33/33 [==============================] - 0s 3ms/step - loss: 18.3536 - mae: 3.1118 - val_loss: 257.3292 - val_mae: 12.9524\n",
            "Epoch 140/200\n",
            "33/33 [==============================] - 0s 4ms/step - loss: 16.9303 - mae: 3.0451 - val_loss: 253.5851 - val_mae: 12.7642\n",
            "Epoch 141/200\n",
            "33/33 [==============================] - 0s 4ms/step - loss: 16.8579 - mae: 2.9461 - val_loss: 198.3564 - val_mae: 10.9770\n",
            "Epoch 142/200\n",
            "33/33 [==============================] - 0s 4ms/step - loss: 17.8995 - mae: 3.0068 - val_loss: 206.9754 - val_mae: 11.3811\n",
            "Epoch 143/200\n",
            "33/33 [==============================] - 0s 4ms/step - loss: 16.3482 - mae: 2.9555 - val_loss: 250.9130 - val_mae: 12.6324\n",
            "Epoch 144/200\n",
            "33/33 [==============================] - 0s 4ms/step - loss: 14.5022 - mae: 2.8755 - val_loss: 247.9597 - val_mae: 12.6362\n",
            "Epoch 145/200\n",
            "33/33 [==============================] - 0s 4ms/step - loss: 21.8168 - mae: 3.2473 - val_loss: 216.4302 - val_mae: 11.5260\n",
            "Epoch 146/200\n",
            "33/33 [==============================] - 0s 4ms/step - loss: 15.6611 - mae: 2.9268 - val_loss: 167.2044 - val_mae: 10.1864\n",
            "Epoch 147/200\n",
            "33/33 [==============================] - 0s 4ms/step - loss: 15.5612 - mae: 2.8937 - val_loss: 185.9156 - val_mae: 10.7031\n",
            "Epoch 148/200\n",
            "33/33 [==============================] - 0s 4ms/step - loss: 17.3163 - mae: 2.9025 - val_loss: 172.7704 - val_mae: 10.4851\n",
            "Epoch 149/200\n",
            "33/33 [==============================] - 0s 4ms/step - loss: 14.8729 - mae: 2.9260 - val_loss: 246.3875 - val_mae: 12.5382\n",
            "Epoch 150/200\n",
            "33/33 [==============================] - 0s 4ms/step - loss: 13.5005 - mae: 2.7629 - val_loss: 232.9265 - val_mae: 12.0680\n",
            "Epoch 151/200\n",
            "33/33 [==============================] - 0s 4ms/step - loss: 16.6911 - mae: 2.8620 - val_loss: 225.3142 - val_mae: 11.9900\n",
            "Epoch 152/200\n",
            "33/33 [==============================] - 0s 4ms/step - loss: 13.8738 - mae: 2.7187 - val_loss: 357.5928 - val_mae: 15.5610\n",
            "Epoch 153/200\n",
            "33/33 [==============================] - 0s 4ms/step - loss: 18.6524 - mae: 3.0809 - val_loss: 181.7197 - val_mae: 10.6583\n",
            "Epoch 154/200\n",
            "33/33 [==============================] - 0s 4ms/step - loss: 15.4136 - mae: 2.9438 - val_loss: 143.6207 - val_mae: 9.3748\n",
            "Epoch 155/200\n",
            "33/33 [==============================] - 0s 4ms/step - loss: 14.9878 - mae: 2.9048 - val_loss: 253.5448 - val_mae: 12.9685\n",
            "Epoch 156/200\n",
            "33/33 [==============================] - 0s 4ms/step - loss: 13.4789 - mae: 2.6698 - val_loss: 271.5511 - val_mae: 13.5998\n",
            "Epoch 157/200\n",
            "33/33 [==============================] - 0s 4ms/step - loss: 15.5212 - mae: 2.7339 - val_loss: 212.8410 - val_mae: 11.5779\n",
            "Epoch 158/200\n",
            "33/33 [==============================] - 0s 4ms/step - loss: 12.0455 - mae: 2.5406 - val_loss: 220.5990 - val_mae: 11.8874\n",
            "Epoch 159/200\n",
            "33/33 [==============================] - 0s 4ms/step - loss: 14.0339 - mae: 2.7067 - val_loss: 180.8182 - val_mae: 10.6840\n",
            "Epoch 160/200\n",
            "33/33 [==============================] - 0s 4ms/step - loss: 18.1059 - mae: 3.0218 - val_loss: 173.9763 - val_mae: 10.4397\n",
            "Epoch 161/200\n",
            "33/33 [==============================] - 0s 4ms/step - loss: 20.4096 - mae: 2.8632 - val_loss: 201.7677 - val_mae: 11.2581\n",
            "Epoch 162/200\n",
            "33/33 [==============================] - 0s 4ms/step - loss: 20.6099 - mae: 3.0576 - val_loss: 176.5393 - val_mae: 10.4844\n",
            "Epoch 163/200\n",
            "33/33 [==============================] - 0s 4ms/step - loss: 15.7202 - mae: 2.8571 - val_loss: 222.3386 - val_mae: 12.0413\n",
            "Epoch 164/200\n",
            "33/33 [==============================] - 0s 4ms/step - loss: 16.9800 - mae: 3.1343 - val_loss: 167.2045 - val_mae: 10.2675\n",
            "Epoch 165/200\n",
            "33/33 [==============================] - 0s 4ms/step - loss: 13.6300 - mae: 2.7541 - val_loss: 215.5075 - val_mae: 11.5840\n",
            "Epoch 166/200\n",
            "33/33 [==============================] - 0s 4ms/step - loss: 13.5202 - mae: 2.7197 - val_loss: 179.8637 - val_mae: 10.6752\n",
            "Epoch 167/200\n",
            "33/33 [==============================] - 0s 4ms/step - loss: 15.6201 - mae: 2.8504 - val_loss: 244.9203 - val_mae: 12.5542\n",
            "Epoch 168/200\n",
            "33/33 [==============================] - 0s 4ms/step - loss: 14.3567 - mae: 2.6839 - val_loss: 198.7416 - val_mae: 11.1782\n",
            "Epoch 169/200\n",
            "33/33 [==============================] - 0s 4ms/step - loss: 15.0163 - mae: 2.8881 - val_loss: 224.5698 - val_mae: 11.9395\n",
            "Epoch 170/200\n",
            "33/33 [==============================] - 0s 4ms/step - loss: 12.3406 - mae: 2.4588 - val_loss: 175.3101 - val_mae: 10.5411\n",
            "Epoch 171/200\n",
            "33/33 [==============================] - 0s 4ms/step - loss: 14.9226 - mae: 2.8851 - val_loss: 144.2884 - val_mae: 9.3742\n",
            "Epoch 172/200\n",
            "33/33 [==============================] - 0s 4ms/step - loss: 14.9146 - mae: 2.9455 - val_loss: 280.2282 - val_mae: 13.6739\n",
            "Epoch 173/200\n",
            "33/33 [==============================] - 0s 4ms/step - loss: 16.3145 - mae: 2.8549 - val_loss: 177.0126 - val_mae: 10.6092\n",
            "Epoch 174/200\n",
            "33/33 [==============================] - 0s 4ms/step - loss: 14.2824 - mae: 2.8919 - val_loss: 200.9306 - val_mae: 11.3888\n",
            "Epoch 175/200\n",
            "33/33 [==============================] - 0s 4ms/step - loss: 13.7438 - mae: 2.7406 - val_loss: 216.5288 - val_mae: 11.6326\n",
            "Epoch 176/200\n",
            "33/33 [==============================] - 0s 4ms/step - loss: 13.1451 - mae: 2.6785 - val_loss: 188.7335 - val_mae: 10.8527\n",
            "Epoch 177/200\n",
            "33/33 [==============================] - 0s 4ms/step - loss: 17.7326 - mae: 2.9936 - val_loss: 278.5964 - val_mae: 13.6192\n",
            "Epoch 178/200\n",
            "33/33 [==============================] - 0s 4ms/step - loss: 14.7376 - mae: 2.9107 - val_loss: 224.6091 - val_mae: 11.9372\n",
            "Epoch 179/200\n",
            "33/33 [==============================] - 0s 4ms/step - loss: 13.6561 - mae: 2.5017 - val_loss: 213.1396 - val_mae: 11.6739\n",
            "Epoch 180/200\n",
            "33/33 [==============================] - 0s 4ms/step - loss: 14.6954 - mae: 2.8721 - val_loss: 158.5265 - val_mae: 9.9303\n",
            "Epoch 181/200\n",
            "33/33 [==============================] - 0s 4ms/step - loss: 15.1833 - mae: 2.8206 - val_loss: 219.0604 - val_mae: 11.8108\n",
            "Epoch 182/200\n",
            "33/33 [==============================] - 0s 4ms/step - loss: 13.1745 - mae: 2.5582 - val_loss: 167.0978 - val_mae: 10.2598\n",
            "Epoch 183/200\n",
            "33/33 [==============================] - 0s 4ms/step - loss: 15.2948 - mae: 2.8849 - val_loss: 159.7235 - val_mae: 10.0128\n",
            "Epoch 184/200\n",
            "33/33 [==============================] - 0s 4ms/step - loss: 15.5157 - mae: 2.9482 - val_loss: 225.4818 - val_mae: 12.0350\n",
            "Epoch 185/200\n",
            "33/33 [==============================] - 0s 4ms/step - loss: 14.8389 - mae: 2.7452 - val_loss: 190.9485 - val_mae: 11.0911\n",
            "Epoch 186/200\n",
            "33/33 [==============================] - 0s 4ms/step - loss: 14.7487 - mae: 2.7633 - val_loss: 200.6958 - val_mae: 11.3484\n",
            "Epoch 187/200\n",
            "33/33 [==============================] - 0s 4ms/step - loss: 18.3908 - mae: 2.9536 - val_loss: 259.1083 - val_mae: 13.0045\n",
            "Epoch 188/200\n",
            "33/33 [==============================] - 0s 4ms/step - loss: 15.9683 - mae: 2.9293 - val_loss: 266.1370 - val_mae: 13.0591\n",
            "Epoch 189/200\n",
            "33/33 [==============================] - 0s 4ms/step - loss: 14.7883 - mae: 2.7376 - val_loss: 219.5416 - val_mae: 11.8872\n",
            "Epoch 190/200\n",
            "33/33 [==============================] - 0s 4ms/step - loss: 13.3586 - mae: 2.5402 - val_loss: 254.3045 - val_mae: 13.1340\n",
            "Epoch 191/200\n",
            "33/33 [==============================] - 0s 4ms/step - loss: 14.8548 - mae: 2.8678 - val_loss: 254.4865 - val_mae: 12.9490\n",
            "Epoch 192/200\n",
            "33/33 [==============================] - 0s 4ms/step - loss: 13.0525 - mae: 2.6494 - val_loss: 205.3494 - val_mae: 11.4092\n",
            "Epoch 193/200\n",
            "33/33 [==============================] - 0s 4ms/step - loss: 14.2005 - mae: 2.7696 - val_loss: 197.8683 - val_mae: 11.2757\n",
            "Epoch 194/200\n",
            "33/33 [==============================] - 0s 4ms/step - loss: 14.3035 - mae: 2.6832 - val_loss: 169.4102 - val_mae: 10.4222\n",
            "Epoch 195/200\n",
            "33/33 [==============================] - 0s 4ms/step - loss: 13.9204 - mae: 2.6864 - val_loss: 247.4671 - val_mae: 12.9049\n",
            "Epoch 196/200\n",
            "33/33 [==============================] - 0s 4ms/step - loss: 17.9598 - mae: 2.9701 - val_loss: 237.4855 - val_mae: 12.5182\n",
            "Epoch 197/200\n",
            "33/33 [==============================] - 0s 4ms/step - loss: 16.4035 - mae: 2.9081 - val_loss: 209.4526 - val_mae: 11.6261\n",
            "Epoch 198/200\n",
            "33/33 [==============================] - 0s 4ms/step - loss: 18.6606 - mae: 2.8625 - val_loss: 184.2225 - val_mae: 10.8265\n",
            "Epoch 199/200\n",
            "33/33 [==============================] - 0s 4ms/step - loss: 16.2869 - mae: 2.9782 - val_loss: 286.8899 - val_mae: 13.9365\n",
            "Epoch 200/200\n",
            "33/33 [==============================] - 0s 4ms/step - loss: 14.7363 - mae: 2.8364 - val_loss: 180.2568 - val_mae: 10.6549\n"
          ],
          "name": "stdout"
        }
      ]
    },
    {
      "cell_type": "code",
      "metadata": {
        "id": "oWwyPM2rk6Q9"
      },
      "source": [
        "train_mae = history.history['mae']\n",
        "val_mae = history.history['val_mae']\n",
        "epochs = range(1, 201)"
      ],
      "execution_count": null,
      "outputs": []
    },
    {
      "cell_type": "code",
      "metadata": {
        "colab": {
          "base_uri": "https://localhost:8080/",
          "height": 295
        },
        "id": "IP6V6gIvk_NW",
        "outputId": "8269b7b7-0d38-4531-897c-363999e2dfb3"
      },
      "source": [
        "plt.plot(epochs, train_mae, 'b', label='Training MAE')\n",
        "plt.plot(epochs, val_mae, 'r-', label='Validation MAE')\n",
        "plt.title('Training and Validation loss ')\n",
        "plt.xlabel('Epochs')\n",
        "plt.ylabel('MAE')\n",
        "plt.legend()\n",
        "plt.show()"
      ],
      "execution_count": null,
      "outputs": [
        {
          "output_type": "display_data",
          "data": {
            "image/png": "[encoded data removed]",
            "text/plain": [
              "<Figure size 432x288 with 1 Axes>"
            ]
          },
          "metadata": {
            "tags": [],
            "needs_background": "light"
          }
        }
      ]
    },
    {
      "cell_type": "code",
      "metadata": {
        "id": "07fageP_lSSn"
      },
      "source": [
        "train_loss = history.history['loss']\n",
        "val_loss = history.history['val_loss']"
      ],
      "execution_count": null,
      "outputs": []
    },
    {
      "cell_type": "code",
      "metadata": {
        "colab": {
          "base_uri": "https://localhost:8080/",
          "height": 295
        },
        "id": "nPVFUvTQlV25",
        "outputId": "c82591f8-1782-4a6a-d3bf-3da09d7b85d7"
      },
      "source": [
        "plt.plot(epochs, train_loss, 'r', label='Training Loss')\n",
        "plt.plot(epochs, val_loss, 'g', label='Validation Loss')\n",
        "plt.title('Training and Validation loss ')\n",
        "plt.xlabel('Epochs')\n",
        "plt.ylabel('Loss')\n",
        "plt.legend()\n",
        "plt.show()"
      ],
      "execution_count": null,
      "outputs": [
        {
          "output_type": "display_data",
          "data": {
            "image/png": "[encoded data removed]",
            "text/plain": [
              "<Figure size 432x288 with 1 Axes>"
            ]
          },
          "metadata": {
            "tags": [],
            "needs_background": "light"
          }
        }
      ]
    },
    {
      "cell_type": "code",
      "metadata": {
        "colab": {
          "base_uri": "https://localhost:8080/"
        },
        "id": "yYH9GkgPl7hm",
        "outputId": "1f950a3c-5276-402e-fa2d-dabf9c1285f6"
      },
      "source": [
        "test_labels"
      ],
      "execution_count": null,
      "outputs": [
        {
          "output_type": "execute_result",
          "data": {
            "text/plain": [
              "516     9.85\n",
              "517    15.07\n",
              "518    23.25\n",
              "519    43.73\n",
              "520    13.40\n",
              "       ...  \n",
              "809    19.69\n",
              "810    14.99\n",
              "811    27.92\n",
              "812    34.68\n",
              "813    37.33\n",
              "Name: Concrete compressive strength(MPa, megapascals) , Length: 298, dtype: float64"
            ]
          },
          "metadata": {
            "tags": []
          },
          "execution_count": 72
        }
      ]
    },
    {
      "cell_type": "code",
      "metadata": {
        "colab": {
          "base_uri": "https://localhost:8080/"
        },
        "id": "fbbS0D75l_aN",
        "outputId": "e991fc82-15c7-4f94-9813-6ed8dc880e7b"
      },
      "source": [
        "model.predict(test_data)"
      ],
      "execution_count": null,
      "outputs": [
        {
          "output_type": "execute_result",
          "data": {
            "text/plain": [
              "array([[ 8.746995 ],\n",
              "       [11.299186 ],\n",
              "       [27.926138 ],\n",
              "       [41.91607  ],\n",
              "       [18.757042 ],\n",
              "       [22.869371 ],\n",
              "       [49.498352 ],\n",
              "       [55.38623  ],\n",
              "       [55.38623  ],\n",
              "       [35.38597  ],\n",
              "       [35.38597  ],\n",
              "       [41.379227 ],\n",
              "       [41.379227 ],\n",
              "       [62.524258 ],\n",
              "       [62.524258 ],\n",
              "       [40.756355 ],\n",
              "       [36.412514 ],\n",
              "       [ 6.848964 ],\n",
              "       [16.831005 ],\n",
              "       [44.402832 ],\n",
              "       [32.94752  ],\n",
              "       [49.02658  ],\n",
              "       [38.386497 ],\n",
              "       [54.686565 ],\n",
              "       [34.712784 ],\n",
              "       [10.263822 ],\n",
              "       [35.918617 ],\n",
              "       [ 7.698702 ],\n",
              "       [ 9.863662 ],\n",
              "       [18.558956 ],\n",
              "       [24.926773 ],\n",
              "       [13.516597 ],\n",
              "       [21.31295  ],\n",
              "       [38.207954 ],\n",
              "       [20.663116 ],\n",
              "       [ 4.036048 ],\n",
              "       [14.233455 ],\n",
              "       [38.59114  ],\n",
              "       [18.645504 ],\n",
              "       [36.16819  ],\n",
              "       [39.63067  ],\n",
              "       [21.551414 ],\n",
              "       [23.242577 ],\n",
              "       [61.81168  ],\n",
              "       [33.306152 ],\n",
              "       [37.677864 ],\n",
              "       [24.477499 ],\n",
              "       [25.51202  ],\n",
              "       [32.747528 ],\n",
              "       [20.04813  ],\n",
              "       [38.743744 ],\n",
              "       [14.330873 ],\n",
              "       [25.65664  ],\n",
              "       [41.058403 ],\n",
              "       [31.342728 ],\n",
              "       [56.077644 ],\n",
              "       [15.982444 ],\n",
              "       [48.402164 ],\n",
              "       [13.358392 ],\n",
              "       [29.64097  ],\n",
              "       [21.822006 ],\n",
              "       [30.069742 ],\n",
              "       [18.98117  ],\n",
              "       [31.570587 ],\n",
              "       [25.220154 ],\n",
              "       [16.086823 ],\n",
              "       [31.853216 ],\n",
              "       [47.247604 ],\n",
              "       [33.153023 ],\n",
              "       [44.333893 ],\n",
              "       [29.007431 ],\n",
              "       [36.356827 ],\n",
              "       [13.651679 ],\n",
              "       [33.557697 ],\n",
              "       [18.987297 ],\n",
              "       [29.901716 ],\n",
              "       [36.434303 ],\n",
              "       [19.05672  ],\n",
              "       [29.48148  ],\n",
              "       [30.214994 ],\n",
              "       [16.783625 ],\n",
              "       [41.556946 ],\n",
              "       [12.62221  ],\n",
              "       [15.847579 ],\n",
              "       [20.840214 ],\n",
              "       [27.261799 ],\n",
              "       [38.42794  ],\n",
              "       [42.616806 ],\n",
              "       [44.901886 ],\n",
              "       [ 5.8483024],\n",
              "       [13.194657 ],\n",
              "       [19.596128 ],\n",
              "       [35.626465 ],\n",
              "       [39.59539  ],\n",
              "       [45.081284 ],\n",
              "       [14.409063 ],\n",
              "       [21.079842 ],\n",
              "       [ 7.0843296],\n",
              "       [36.063267 ],\n",
              "       [40.264282 ],\n",
              "       [43.735355 ],\n",
              "       [ 7.8697443],\n",
              "       [36.286983 ],\n",
              "       [40.52985  ],\n",
              "       [45.806587 ],\n",
              "       [41.81057  ],\n",
              "       [43.967323 ],\n",
              "       [10.060793 ],\n",
              "       [24.463902 ],\n",
              "       [36.73825  ],\n",
              "       [ 8.397724 ],\n",
              "       [16.052753 ],\n",
              "       [27.458513 ],\n",
              "       [15.998132 ],\n",
              "       [27.759731 ],\n",
              "       [18.700851 ],\n",
              "       [31.089283 ],\n",
              "       [16.887207 ],\n",
              "       [28.702896 ],\n",
              "       [17.617592 ],\n",
              "       [29.505796 ],\n",
              "       [21.467491 ],\n",
              "       [33.990963 ],\n",
              "       [36.38775  ],\n",
              "       [23.908415 ],\n",
              "       [16.358883 ],\n",
              "       [28.190453 ],\n",
              "       [19.620907 ],\n",
              "       [32.005527 ],\n",
              "       [21.731672 ],\n",
              "       [35.729942 ],\n",
              "       [36.602478 ],\n",
              "       [29.513403 ],\n",
              "       [13.150169 ],\n",
              "       [38.306473 ],\n",
              "       [13.49132  ],\n",
              "       [ 3.6810536],\n",
              "       [39.677788 ],\n",
              "       [28.571922 ],\n",
              "       [29.649921 ],\n",
              "       [ 9.1911955],\n",
              "       [26.820324 ],\n",
              "       [25.199944 ],\n",
              "       [40.022385 ],\n",
              "       [39.026115 ],\n",
              "       [17.094805 ],\n",
              "       [27.440632 ],\n",
              "       [25.953442 ],\n",
              "       [23.006239 ],\n",
              "       [ 9.857231 ],\n",
              "       [14.816277 ],\n",
              "       [37.30623  ],\n",
              "       [ 2.8750105],\n",
              "       [19.374897 ],\n",
              "       [35.69889  ],\n",
              "       [18.353043 ],\n",
              "       [ 6.351333 ],\n",
              "       [20.594772 ],\n",
              "       [13.833132 ],\n",
              "       [39.12149  ],\n",
              "       [16.708843 ],\n",
              "       [ 7.2234416],\n",
              "       [38.610237 ],\n",
              "       [32.971394 ],\n",
              "       [22.952545 ],\n",
              "       [24.402323 ],\n",
              "       [29.962973 ],\n",
              "       [36.81582  ],\n",
              "       [44.811195 ],\n",
              "       [ 9.763423 ],\n",
              "       [21.165894 ],\n",
              "       [37.677055 ],\n",
              "       [ 9.945962 ],\n",
              "       [11.784594 ],\n",
              "       [23.35627  ],\n",
              "       [16.720009 ],\n",
              "       [38.23591  ],\n",
              "       [22.512985 ],\n",
              "       [32.110203 ],\n",
              "       [24.319658 ],\n",
              "       [17.389748 ],\n",
              "       [13.10939  ],\n",
              "       [37.772446 ],\n",
              "       [17.65319  ],\n",
              "       [ 5.757466 ],\n",
              "       [44.83332  ],\n",
              "       [13.288785 ],\n",
              "       [27.87852  ],\n",
              "       [19.05204  ],\n",
              "       [12.009883 ],\n",
              "       [38.433342 ],\n",
              "       [36.08873  ],\n",
              "       [ 4.4871793],\n",
              "       [36.716366 ],\n",
              "       [33.02471  ],\n",
              "       [37.49282  ],\n",
              "       [18.781307 ],\n",
              "       [ 7.754604 ],\n",
              "       [ 6.7548795],\n",
              "       [36.32728  ],\n",
              "       [ 8.080482 ],\n",
              "       [13.214908 ],\n",
              "       [15.40743  ],\n",
              "       [33.501396 ],\n",
              "       [40.685543 ],\n",
              "       [ 8.069477 ],\n",
              "       [11.197306 ],\n",
              "       [22.62593  ],\n",
              "       [36.70363  ],\n",
              "       [37.82763  ],\n",
              "       [ 9.100278 ],\n",
              "       [12.471011 ],\n",
              "       [24.780792 ],\n",
              "       [38.17494  ],\n",
              "       [39.366936 ],\n",
              "       [12.725156 ],\n",
              "       [16.152206 ],\n",
              "       [29.35489  ],\n",
              "       [42.312202 ],\n",
              "       [43.974777 ],\n",
              "       [18.974724 ],\n",
              "       [29.615852 ],\n",
              "       [19.851414 ],\n",
              "       [31.155956 ],\n",
              "       [18.192741 ],\n",
              "       [48.61615  ],\n",
              "       [54.942253 ],\n",
              "       [37.57931  ],\n",
              "       [20.081955 ],\n",
              "       [31.504932 ],\n",
              "       [29.990723 ],\n",
              "       [31.620142 ],\n",
              "       [34.25423  ],\n",
              "       [36.94568  ],\n",
              "       [41.847942 ],\n",
              "       [46.231247 ],\n",
              "       [49.521736 ],\n",
              "       [53.91986  ],\n",
              "       [65.85316  ],\n",
              "       [66.59591  ],\n",
              "       [63.858826 ],\n",
              "       [16.714    ],\n",
              "       [21.928516 ],\n",
              "       [27.993992 ],\n",
              "       [35.358498 ],\n",
              "       [38.769974 ],\n",
              "       [42.884384 ],\n",
              "       [16.368776 ],\n",
              "       [18.260136 ],\n",
              "       [21.770836 ],\n",
              "       [26.715824 ],\n",
              "       [33.93744  ],\n",
              "       [42.445152 ],\n",
              "       [44.36402  ],\n",
              "       [12.046204 ],\n",
              "       [ 8.753331 ],\n",
              "       [24.272614 ],\n",
              "       [36.23909  ],\n",
              "       [29.920593 ],\n",
              "       [31.248098 ],\n",
              "       [21.964535 ],\n",
              "       [33.71155  ],\n",
              "       [18.101967 ],\n",
              "       [29.499546 ],\n",
              "       [29.711952 ],\n",
              "       [18.247337 ],\n",
              "       [29.547562 ],\n",
              "       [42.98436  ],\n",
              "       [14.580174 ],\n",
              "       [12.088211 ],\n",
              "       [23.918623 ],\n",
              "       [37.087395 ],\n",
              "       [15.457448 ],\n",
              "       [28.626923 ],\n",
              "       [41.497192 ],\n",
              "       [44.212193 ],\n",
              "       [47.41631  ],\n",
              "       [18.519165 ],\n",
              "       [42.257217 ],\n",
              "       [59.855175 ],\n",
              "       [52.77597  ],\n",
              "       [53.25422  ],\n",
              "       [51.698284 ],\n",
              "       [44.39068  ],\n",
              "       [19.106411 ],\n",
              "       [29.989553 ],\n",
              "       [32.988472 ],\n",
              "       [19.682043 ],\n",
              "       [35.278942 ],\n",
              "       [44.860153 ],\n",
              "       [24.595472 ],\n",
              "       [36.530437 ],\n",
              "       [18.975761 ],\n",
              "       [29.989553 ],\n",
              "       [10.487269 ],\n",
              "       [21.804853 ],\n",
              "       [36.28263  ],\n",
              "       [41.151154 ]], dtype=float32)"
            ]
          },
          "metadata": {
            "tags": []
          },
          "execution_count": 73
        }
      ]
    },
    {
      "cell_type": "code",
      "metadata": {
        "colab": {
          "base_uri": "https://localhost:8080/"
        },
        "id": "IRzdpAbBcmAQ",
        "outputId": "712b171a-ed78-47cd-c50c-7a464670f352"
      },
      "source": [
        "model.evaluate(test_data,test_labels)"
      ],
      "execution_count": null,
      "outputs": [
        {
          "output_type": "stream",
          "text": [
            "10/10 [==============================] - 0s 2ms/step - loss: 47.8689 - mae: 5.4594\n"
          ],
          "name": "stdout"
        },
        {
          "output_type": "execute_result",
          "data": {
            "text/plain": [
              "[47.86888885498047, 5.459357738494873]"
            ]
          },
          "metadata": {
            "tags": []
          },
          "execution_count": 74
        }
      ]
    }
  ]
}